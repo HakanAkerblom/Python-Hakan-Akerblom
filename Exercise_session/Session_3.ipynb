{
 "cells": [
  {
   "cell_type": "markdown",
   "metadata": {},
   "source": [
    "# Exercise session 3"
   ]
  },
  {
   "cell_type": "markdown",
   "metadata": {},
   "source": [
    "## 8-02 file-handling"
   ]
  },
  {
   "cell_type": "code",
   "execution_count": null,
   "metadata": {},
   "outputs": [],
   "source": [
    "# a)\n",
    "\n",
    "with open(\"../Data/test_result.txt\") as f_read:\n",
    "    # each line is stroed in a list\n",
    "    # each line is a string\n",
    "    lines =  f_read.readlines()\n",
    "    print(lines)\n",
    "\n",
    "    # loops through the lines and prints each line \n",
    "    for line in lines:\n",
    "        print(line, end = \"\")\n",
    "    \n"
   ]
  },
  {
   "cell_type": "code",
   "execution_count": 45,
   "metadata": {},
   "outputs": [
    {
     "name": "stdout",
     "output_type": "stream",
     "text": [
      "['Adam Gustafsson 25\\n', 'BjÃ¶rn BjÃ¶rnsson 39\\n', 'Bose Bosseson 32\\n', 'Ella Ester 41\\n', 'Emil Johansson 23\\n', 'Emma Boden 32\\n', 'Erik Eriksson 31\\n', 'Fredrika Ulven 10\\n', 'Gore Bord 55\\n', 'Hanna Karlsson 23 \\n', 'HÃ¥kan HÃ¥kanson 24\\n', 'Ida HÃ¥kansson 23\\n', 'Jakob Kallander 65\\n', 'Johan Johansson 42\\n', 'Jonas Jonasson 31\\n', 'Karl Karlsson 32\\n', 'Ove Karlsten 41\\n', 'Sven Erik Karlsson 13\\n', 'Sven Erik Lundin 39\\n']\n",
      "FEDCBA\n"
     ]
    }
   ],
   "source": [
    "# b) and c)\n",
    "with open(\"../Data/test_result.txt\", \"r\") as f_read, open(\"../Data/test_result_tmp.txt\", \"w\") as f_write:\n",
    "    lines = f_read.readlines()\n",
    "    # print(lines[-1])\n",
    "\n",
    "    # returns none\n",
    "    # lines.sort() # this mutates the list\n",
    "    # print(lines)\n",
    "\n",
    "    lines_sorted_alphabetically = sorted(lines) # this returns a new sorted list\n",
    "    print(lines_sorted_alphabetically)\n",
    "\n",
    "    for line in lines_sorted_alphabetically:\n",
    "        f_write.write(line)\n",
    "\n",
    "\n",
    "    f_write.write(\"\\n\\n\")\n",
    "    # ---------------------------------c)----------------------\n",
    "    # need to split and find the score for each line\n",
    "    # put them in grade order\n",
    "\n",
    "    grades = \"ABCDEF\"[::-1]\n",
    "    print(grades)\n",
    "\n",
    "    for grade, limit in zip(grades, range(10, 71, 10)):\n",
    "        f_write.write(f\"\\nBetyg {grade}\\n\")\n",
    "        for line in lines:\n",
    "\n",
    "            point = int(line.split()[-1])\n",
    "            if limit <= point < limit +10:\n",
    "                f_write.write(f\"{line}\") # type converts int to string, in order to write it to a text file\n"
   ]
  },
  {
   "cell_type": "code",
   "execution_count": null,
   "metadata": {},
   "outputs": [],
   "source": [
    "for grade, limit in zip(grades, range(20, 71, 10)):\n",
    "    print(grade, limit)"
   ]
  },
  {
   "cell_type": "code",
   "execution_count": null,
   "metadata": {},
   "outputs": [],
   "source": []
  }
 ],
 "metadata": {
  "kernelspec": {
   "display_name": "Python 3.9.13 ('Python-Hakan-Akerblom-fWPs1u-F')",
   "language": "python",
   "name": "python3"
  },
  "language_info": {
   "codemirror_mode": {
    "name": "ipython",
    "version": 3
   },
   "file_extension": ".py",
   "mimetype": "text/x-python",
   "name": "python",
   "nbconvert_exporter": "python",
   "pygments_lexer": "ipython3",
   "version": "3.9.13"
  },
  "orig_nbformat": 4,
  "vscode": {
   "interpreter": {
    "hash": "9b8982fe4dee5ea216abe18f309efc76049b2ef374ce38cf34875b7e1b48bd42"
   }
  }
 },
 "nbformat": 4,
 "nbformat_minor": 2
}
