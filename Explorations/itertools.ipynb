{
 "cells": [
  {
   "cell_type": "code",
   "execution_count": 11,
   "metadata": {},
   "outputs": [
    {
     "name": "stdout",
     "output_type": "stream",
     "text": [
      "[(1, 2, 'a', 'b'), (1, 2, 'b', 'a'), (1, 'a', 2, 'b'), (1, 'a', 'b', 2), (1, 'b', 2, 'a'), (1, 'b', 'a', 2), (2, 1, 'a', 'b'), (2, 1, 'b', 'a'), (2, 'a', 1, 'b'), (2, 'a', 'b', 1), (2, 'b', 1, 'a'), (2, 'b', 'a', 1), ('a', 1, 2, 'b'), ('a', 1, 'b', 2), ('a', 2, 1, 'b'), ('a', 2, 'b', 1), ('a', 'b', 1, 2), ('a', 'b', 2, 1), ('b', 1, 2, 'a'), ('b', 1, 'a', 2), ('b', 2, 1, 'a'), ('b', 2, 'a', 1), ('b', 'a', 1, 2), ('b', 'a', 2, 1)]\n",
      "[('A', 'B'), ('A', 'C'), ('A', 'D'), ('B', 'A'), ('B', 'C'), ('B', 'D'), ('C', 'A'), ('C', 'B'), ('C', 'D'), ('D', 'A'), ('D', 'B'), ('D', 'C')]\n"
     ]
    }
   ],
   "source": [
    "import itertools as it\n",
    "def permutations_example(n, size):\n",
    "    result = it.permutations(n, size)\n",
    "    print(list(result))\n",
    "\n",
    "list1 = [1, 2, \"a\", \"b\"]\n",
    "\n",
    "permutations_example(list1, 4)\n",
    "\n",
    "string1 = \"ABCD\"\n",
    "\n",
    "permutations_example(string1, 2)"
   ]
  },
  {
   "cell_type": "code",
   "execution_count": null,
   "metadata": {},
   "outputs": [],
   "source": []
  }
 ],
 "metadata": {
  "kernelspec": {
   "display_name": "Python 3.9.13 ('Python-Hakan-Akerblom-fWPs1u-F')",
   "language": "python",
   "name": "python3"
  },
  "language_info": {
   "codemirror_mode": {
    "name": "ipython",
    "version": 3
   },
   "file_extension": ".py",
   "mimetype": "text/x-python",
   "name": "python",
   "nbconvert_exporter": "python",
   "pygments_lexer": "ipython3",
   "version": "3.9.13"
  },
  "orig_nbformat": 4,
  "vscode": {
   "interpreter": {
    "hash": "9b8982fe4dee5ea216abe18f309efc76049b2ef374ce38cf34875b7e1b48bd42"
   }
  }
 },
 "nbformat": 4,
 "nbformat_minor": 2
}
