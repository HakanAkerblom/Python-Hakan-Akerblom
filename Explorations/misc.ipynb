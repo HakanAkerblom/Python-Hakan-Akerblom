{
 "cells": [
  {
   "cell_type": "code",
   "execution_count": 8,
   "metadata": {},
   "outputs": [
    {
     "name": "stdout",
     "output_type": "stream",
     "text": [
      "40\n",
      "10\n"
     ]
    }
   ],
   "source": [
    "# Såhär gör man i andra språk men inte Python?...\n",
    "\n",
    "class Person:\n",
    "    # type hinting - returns None\n",
    "    def __init__(self, age: float) -> None:\n",
    "        # bare attribute\n",
    "        self._age = age\n",
    "\n",
    "    def get_age(self) -> float:\n",
    "        return self._age\n",
    "\n",
    "    def set_age(self, value: float) -> None:\n",
    "        #valideringskod\n",
    "        self._age = value\n",
    "\n",
    "person_instane = Person(40)\n",
    "# person_instane.age = -5\n",
    "print(person_instane.get_age())\n",
    "person_instane.set_age(10)\n",
    "print(person_instane.get_age())"
   ]
  },
  {
   "cell_type": "code",
   "execution_count": 17,
   "metadata": {},
   "outputs": [
    {
     "name": "stdout",
     "output_type": "stream",
     "text": [
      "Setter called ...\n"
     ]
    },
    {
     "data": {
      "text/plain": [
       "40"
      ]
     },
     "execution_count": 17,
     "metadata": {},
     "output_type": "execute_result"
    }
   ],
   "source": [
    "# Såhär gör man i Python\n",
    "class Person:\n",
    "    # type hinting - returns None\n",
    "    def __init__(self, age: float) -> None: # rad 5 kör rad 7\n",
    "        # bare attribute\n",
    "        self.age = age # rad 7 kör rad 15\n",
    "\n",
    "    @property\n",
    "    def age(self) -> float:\n",
    "        print(\"getter called ...\")\n",
    "        return self._age\n",
    "\n",
    "    # andra metoder ...\n",
    "    def run_away(self):\n",
    "        print(\"Person runs away from class ...\")\n",
    "\n",
    "    @age.setter\n",
    "    def age(self, value: float) -> None:\n",
    "        # valideringskod\n",
    "\n",
    "        print(\"Setter called ...\")\n",
    "        self._age = value\n",
    "\n",
    "person_instance = Person(40) # den här kör rad 5\n",
    "person_instance._age\n"
   ]
  },
  {
   "cell_type": "code",
   "execution_count": null,
   "metadata": {},
   "outputs": [],
   "source": []
  }
 ],
 "metadata": {
  "kernelspec": {
   "display_name": "Python 3.9.13 ('Python-Hakan-Akerblom-fWPs1u-F')",
   "language": "python",
   "name": "python3"
  },
  "language_info": {
   "codemirror_mode": {
    "name": "ipython",
    "version": 3
   },
   "file_extension": ".py",
   "mimetype": "text/x-python",
   "name": "python",
   "nbconvert_exporter": "python",
   "pygments_lexer": "ipython3",
   "version": "3.9.13"
  },
  "orig_nbformat": 4,
  "vscode": {
   "interpreter": {
    "hash": "9b8982fe4dee5ea216abe18f309efc76049b2ef374ce38cf34875b7e1b48bd42"
   }
  }
 },
 "nbformat": 4,
 "nbformat_minor": 2
}
