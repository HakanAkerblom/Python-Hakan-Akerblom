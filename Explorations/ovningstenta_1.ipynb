{
 "cells": [
  {
   "cell_type": "code",
   "execution_count": null,
   "metadata": {},
   "outputs": [],
   "source": [
    "import matplotlib.pyplot as plt\n",
    "\n",
    "x = list(range(10))\n",
    "y = [i**2 for i in x]\n",
    "fig, ax = plt.figure(), plt.axes()\n",
    "ax.plot(x,y)\n",
    "ax.set(title=\"Plot\", xlabel=\"x\", ylabel=\"y\")\n",
    "\n",
    "# svar: skriver alla kvadrater på  tal mellan 0 till 9."
   ]
  },
  {
   "cell_type": "markdown",
   "metadata": {},
   "source": [
    "Simulera 1000000 tärningskast och beräkna antalet ettor, tvåor, treor, fyror, femmor och sexor. Spara\n",
    "resultatet i en lämplig datastruktur.\n"
   ]
  },
  {
   "cell_type": "code",
   "execution_count": null,
   "metadata": {},
   "outputs": [],
   "source": [
    "import random\n",
    "rolls = [random.randint(1,6) for i in range(1000000)]\n",
    "sorted_rolls = {\n",
    "    \"ones\":rolls.count(1),\n",
    "    \"twos\":rolls.count(2),\n",
    "    \"threes\":rolls.count(3),\n",
    "    \"fours\":rolls.count(4),\n",
    "    \"fives\":rolls.count(5),\n",
    "    \"sixes\":rolls.count(6),\n",
    "}\n",
    "print(sorted_rolls)"
   ]
  },
  {
   "cell_type": "markdown",
   "metadata": {},
   "source": [
    "Skriv en funktion som tar in en radie som inparameter och som returnerar volymen av en sfär. Volymen för en\n",
    "sfär är: V = (4*pi*r^3)/3\n",
    "Låt användaren mata in ett tal och kör funktionen. Tänk på att ta med lämplig felhantering.\n"
   ]
  },
  {
   "cell_type": "code",
   "execution_count": null,
   "metadata": {},
   "outputs": [],
   "source": [
    "import math\n",
    "import doctest\n",
    "def sphere_vol(r):\n",
    "    \"\"\"\n",
    "    >>> sphere_vol(1) = 5.1887902047863905\n",
    "    \"\"\"\n",
    "    #  r = input(\"enter radius\")\n",
    "    if not isinstance(r, (float, int)):\n",
    "        raise TypeError(f\"radius must be int or float, not {type(r)}\")\n",
    "    return (4*math.pi*r**3)/3\n",
    "sphere_vol(5)\n",
    "sphere_vol(1)"
   ]
  },
  {
   "cell_type": "markdown",
   "metadata": {},
   "source": [
    "Läs in en textfil som heter bamba.txt och innehåller:\n",
    "v42\n",
    "Chili sin carne\n",
    "Pannkakor\n",
    "Ärtsoppa\n",
    "Kebab\n",
    "Vegetarisk lasagne\n",
    "Läs in texterna och skriv ut dem i terminalen."
   ]
  },
  {
   "cell_type": "code",
   "execution_count": null,
   "metadata": {},
   "outputs": [],
   "source": [
    "with open(\"bamba.txt\", \"r\") as f:\n",
    "    a = f.read()\n",
    "print(a)"
   ]
  },
  {
   "cell_type": "markdown",
   "metadata": {},
   "source": [
    "Uppgift 5 (3p)\n",
    "Skapa en funktion som tar in två punkter i 2D , och som returnerar tillbaka avståndet mellan\n",
    "dessa. Anropa därefter denna funktion för test\n",
    "Det finns en textfil som heter testpunkter.txt som ligger i undermappen testpoints och innehåller:\n",
    "Punkt 1, punkt 2\n",
    "(1,2), (0,0)\n",
    "(2,0), (3,5)\n",
    "...\n",
    "(-2,-2), (9,2)\n"
   ]
  },
  {
   "cell_type": "code",
   "execution_count": null,
   "metadata": {},
   "outputs": [],
   "source": [
    "import math\n",
    "\n",
    "def dist(p1: tuple, p2: tuple) -> float:\n",
    "    if not isinstance(p1, tuple) or not isinstance(p2, tuple):\n",
    "        raise TypeError(\"p1 and p2 must be tuple\")\n",
    "    x1 = p1[0]\n",
    "    y1 = p1[1]\n",
    "    x2 = p2[0]\n",
    "    y2 = p2[1]\n",
    "    return math.sqrt((x2-x1)**2+(y2-y1)**2)\n",
    "\n",
    "with open(\"testpoints.txt\") as f:\n",
    "    a = f.readlines()\n",
    "a = a[1:]\n",
    "print(a)\n",
    "b = []\n",
    "d= []\n",
    "for text in a:\n",
    "    c = text.split()\n",
    "    for text in c:\n",
    "        print(text)\n",
    "        d.append(text.strip(\",\"))\n",
    "print(b)\n",
    "print(d)\n",
    "print(type(d[1]))\n",
    "e=[]\n",
    "for j in d:\n",
    "    j = tuple(j)\n",
    "    e.append(j)\n",
    "print(e)\n",
    "print(type(e[1]))\n"
   ]
  },
  {
   "cell_type": "markdown",
   "metadata": {},
   "source": [
    "Uppgift 6 (4p)\n",
    "I den här uppgiften ska du skapa ett blackjack som är ett kortspel. Förenklat är reglerna för blackjack:\n",
    "dealern tar två kort\n",
    "dealern visar sitt första kort\n",
    "spelaren tar två kort\n",
    "spelaren får välja att ta nytt kort eller stanna\n",
    "när spelaren stannar räknar man poängen genom:\n",
    "J, K, Q värda 10p\n",
    "A värd 1 eller 11\n",
    "Övriga kort värda deras valör\n",
    "om spelarens poäng mindre eller lika med 21, vinner spelaren om hens poäng överstiger dealerns,\n",
    "annars vinner dealern"
   ]
  },
  {
   "cell_type": "code",
   "execution_count": 141,
   "metadata": {},
   "outputs": [
    {
     "name": "stdout",
     "output_type": "stream",
     "text": [
      "dealer have 7\n",
      "You have 13\n",
      "dealer have 13\n",
      "tie\n"
     ]
    }
   ],
   "source": [
    "# I vanlig Blackjack har man 6 kortlekar, jag antar här istället att man har en oändligt stor kortpool.\n",
    "import random\n",
    "\n",
    "cards = [2, 3, 4, 5, 6, 7, 8, 9, 10, \"J\", \"Q\", \"K\", \"A\"]\n",
    "\n",
    "def play():\n",
    "    dealer1 = cards[random.randint(0, 12)]\n",
    "    print(f\"dealer have {dealer1}\")\n",
    "    player = []\n",
    "    player.append(cards[random.randint(0, 12)])\n",
    "    player.append(cards[random.randint(0, 12)])\n",
    "\n",
    "    while True:\n",
    "        sum = 0\n",
    "        aces = 0\n",
    "        for card in player:\n",
    "            if card == \"A\":\n",
    "                aces += 1\n",
    "            elif card == \"J\" or card == \"Q\" or card == \"K\":\n",
    "                sum += 10\n",
    "            else:\n",
    "                sum += card\n",
    "            while aces > 0:\n",
    "                if sum > 11 or aces >1:\n",
    "                    sum += 1\n",
    "                    aces -= 1\n",
    "                else:\n",
    "                    sum += 11\n",
    "                    aces -= 1\n",
    "            \n",
    "        print(f\"You have {sum}\")\n",
    "        if sum > 21:\n",
    "            print(\"you lose\")\n",
    "            break\n",
    "\n",
    "            \n",
    "        play_on = input(\"Do you want another card? y/n\")\n",
    "        if play_on == \"y\":\n",
    "            player.append(cards[random.randint(0, 12)])\n",
    "        elif play_on == \"n\":\n",
    "            break\n",
    "        else:\n",
    "            print(\"enter y for yes or n for no\")\n",
    "    \n",
    "        \n",
    "\n",
    "    dealer2 = cards[random.randint(0, 12)]\n",
    "    dealer = [dealer1, dealer2]\n",
    "\n",
    "\n",
    "    deal_sum = 0\n",
    "    aces = 0\n",
    "    for card in dealer:\n",
    "        if card == \"A\":\n",
    "            aces += 1\n",
    "        elif card == \"J\" or card == \"Q\" or card == \"K\":\n",
    "            deal_sum += 10\n",
    "        else:\n",
    "            deal_sum += card\n",
    "        while aces > 0:\n",
    "            if deal_sum > 11 or aces >1:\n",
    "                deal_sum += 1\n",
    "                aces -= 1\n",
    "            else:\n",
    "                deal_sum += 11\n",
    "                aces -= 1\n",
    "\n",
    "    print(f\"dealer have {deal_sum}\")\n",
    "    if deal_sum == sum:\n",
    "        print(\"tie\")\n",
    "    elif deal_sum > sum:\n",
    "        print(\"You lose\")\n",
    "    else:\n",
    "        print(\"You win\")\n",
    "play()\n"
   ]
  },
  {
   "cell_type": "code",
   "execution_count": null,
   "metadata": {},
   "outputs": [],
   "source": []
  }
 ],
 "metadata": {
  "kernelspec": {
   "display_name": "Python 3.9.7 ('Python-Hakan-Akerblom-YzR5GEpF')",
   "language": "python",
   "name": "python3"
  },
  "language_info": {
   "codemirror_mode": {
    "name": "ipython",
    "version": 3
   },
   "file_extension": ".py",
   "mimetype": "text/x-python",
   "name": "python",
   "nbconvert_exporter": "python",
   "pygments_lexer": "ipython3",
   "version": "3.9.7"
  },
  "orig_nbformat": 4,
  "vscode": {
   "interpreter": {
    "hash": "50c489c8ac99e50e31e555338e9585cdc55ef013013d6a283364937a133ea910"
   }
  }
 },
 "nbformat": 4,
 "nbformat_minor": 2
}
