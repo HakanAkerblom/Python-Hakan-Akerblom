{
 "cells": [
  {
   "cell_type": "code",
   "execution_count": null,
   "metadata": {},
   "outputs": [],
   "source": []
  },
  {
   "cell_type": "code",
   "execution_count": 1,
   "metadata": {},
   "outputs": [
    {
     "name": "stdout",
     "output_type": "stream",
     "text": [
      "d\n"
     ]
    }
   ],
   "source": [
    "print(\"asdf\"[-2])"
   ]
  },
  {
   "cell_type": "code",
   "execution_count": 15,
   "metadata": {},
   "outputs": [
    {
     "name": "stdout",
     "output_type": "stream",
     "text": [
      "[0, 1, 2, 3, 4, 5, 6, 7, 8, 9]\n",
      "<class 'matplotlib.figure.Figure'>\n",
      "<class 'matplotlib.axes._subplots.AxesSubplot'>\n"
     ]
    },
    {
     "data": {
      "image/png": "[encoded data removed]",
      "text/plain": [
       "<Figure size 640x480 with 1 Axes>"
      ]
     },
     "metadata": {},
     "output_type": "display_data"
    }
   ],
   "source": [
    "import matplotlib.pyplot as plt\n",
    "\n",
    "x = list(range(10))\n",
    "y = [i**2 for i in x]\n",
    "fig, ax = plt.figure(), plt.axes()\n",
    "ax.plot(x, y)\n",
    "ax.set(title=\"Plot\", xlabel=\"x\", ylabel=\"y\")\n",
    "print(x)\n",
    "print(type(fig))\n",
    "print(type(ax))\n",
    "\n",
    "# svar: skriver alla kvadrater på  tal mellan 0 till 9."
   ]
  },
  {
   "cell_type": "markdown",
   "metadata": {},
   "source": [
    "Simulera 1000000 tärningskast och beräkna antalet ettor, tvåor, treor, fyror, femmor och sexor. Spara\n",
    "resultatet i en lämplig datastruktur.\n"
   ]
  },
  {
   "cell_type": "code",
   "execution_count": 21,
   "metadata": {},
   "outputs": [
    {
     "name": "stdout",
     "output_type": "stream",
     "text": [
      "616 ms ± 8.85 ms per loop (mean ± std. dev. of 7 runs, 1 loop each)\n"
     ]
    }
   ],
   "source": [
    "%%timeit\n",
    "\n",
    "import random\n",
    "\n",
    "rolls = [random.randint(1, 6) for i in range(1000000)]\n",
    "sorted_rolls = {\n",
    "    \"ones\": rolls.count(1),\n",
    "    \"twos\": rolls.count(2),\n",
    "    \"threes\": rolls.count(3),\n",
    "    \"fours\": rolls.count(4),\n",
    "    \"fives\": rolls.count(5),\n",
    "    \"sixes\": rolls.count(6),\n",
    "}\n",
    "\n"
   ]
  },
  {
   "cell_type": "code",
   "execution_count": 25,
   "metadata": {},
   "outputs": [
    {
     "name": "stdout",
     "output_type": "stream",
     "text": [
      "616 ms ± 11 ms per loop (mean ± std. dev. of 7 runs, 1 loop each)\n"
     ]
    }
   ],
   "source": [
    "%%timeit\n",
    "\n",
    "import random as rnd\n",
    "\n",
    "rolls = [rnd.randint(1, 6) for i in range(1000000)]\n",
    "sorted_rolls = dict(\n",
    "    ones = rolls.count(1),\n",
    "    twos = rolls.count(2),\n",
    "    threes = rolls.count(3),\n",
    "    fours = rolls.count(4),\n",
    "    fives = rolls.count(5),\n",
    "    sixes = rolls.count(6),\n",
    ")"
   ]
  },
  {
   "cell_type": "code",
   "execution_count": 18,
   "metadata": {},
   "outputs": [
    {
     "name": "stdout",
     "output_type": "stream",
     "text": [
      "{'1': 166321, '2': 166354, '3': 166133, '4': 166742, '5': 166638, '6': 166901}\n"
     ]
    }
   ],
   "source": [
    "import random as rnd\n",
    "\n",
    "dice_list = {}\n",
    "\n",
    "for i, number in enumerate(\"123456\"):\n",
    "    dices = [rnd.randint(1,6) for i in range(1000000)]\n",
    "    dice_list[number]= dices.count(i+1)\n",
    "print(dice_list)"
   ]
  },
  {
   "cell_type": "markdown",
   "metadata": {},
   "source": [
    "Skriv en funktion som tar in en radie som inparameter och som returnerar volymen av en sfär. Volymen för en\n",
    "sfär är: V = (4*pi*r^3)/3\n",
    "Låt användaren mata in ett tal och kör funktionen. Tänk på att ta med lämplig felhantering.\n"
   ]
  },
  {
   "cell_type": "code",
   "execution_count": null,
   "metadata": {},
   "outputs": [],
   "source": [
    "from __future__ import annotations\n",
    "from math import pi\n",
    "\n",
    "def sphere_volume(radius: (int | float)) -> float:\n",
    "    \"\"\"Calculates volue of a sphere of a given radius\"\"\"\n",
    "    if not isinstance(radius, (int, float)):\n",
    "        raise TypeError(f\"Radius must be int or float, not {type(radius).__name__}\")\n",
    "    if radius <= 0:\n",
    "        raise ValueError(f\"Radius must be positive\")\n",
    "\n"
   ]
  },
  {
   "cell_type": "code",
   "execution_count": 27,
   "metadata": {},
   "outputs": [
    {
     "ename": "AttributeError",
     "evalue": "partially initialized module 'doctest' has no attribute 'testmod' (most likely due to a circular import)",
     "output_type": "error",
     "traceback": [
      "\u001b[1;31m---------------------------------------------------------------------------\u001b[0m",
      "\u001b[1;31mAttributeError\u001b[0m                            Traceback (most recent call last)",
      "Cell \u001b[1;32mIn [27], line 2\u001b[0m\n\u001b[0;32m      1\u001b[0m \u001b[39mimport\u001b[39;00m \u001b[39mmath\u001b[39;00m\n\u001b[1;32m----> 2\u001b[0m \u001b[39mimport\u001b[39;00m \u001b[39mdoctest\u001b[39;00m\n\u001b[0;32m      3\u001b[0m \u001b[39mdef\u001b[39;00m \u001b[39msphere_vol\u001b[39m(r):\n\u001b[0;32m      4\u001b[0m     \u001b[39m\"\"\"\u001b[39;00m\n\u001b[0;32m      5\u001b[0m \u001b[39m    >>> sphere_vol(1) = 5.1887902047863905\u001b[39;00m\n\u001b[0;32m      6\u001b[0m \u001b[39m    \"\"\"\u001b[39;00m\n",
      "File \u001b[1;32mc:\\Users\\hakan\\OneDrive\\Documents\\Github\\Python-Hakan-Akerblom\\Explorations\\doctest.py:14\u001b[0m\n\u001b[0;32m     12\u001b[0m sphere_vol(\u001b[39m5\u001b[39m)\n\u001b[0;32m     13\u001b[0m sphere_vol(\u001b[39m1\u001b[39m)\n\u001b[1;32m---> 14\u001b[0m doctest\u001b[39m.\u001b[39;49mtestmod()\n",
      "\u001b[1;31mAttributeError\u001b[0m: partially initialized module 'doctest' has no attribute 'testmod' (most likely due to a circular import)"
     ]
    }
   ],
   "source": [
    "import math\n",
    "import doctest\n",
    "def sphere_vol(r):\n",
    "    \"\"\"\n",
    "    >>> sphere_vol(1) = 5.1887902047863905\n",
    "    \"\"\"\n",
    "    #  r = input(\"enter radius\")\n",
    "    if not isinstance(r, (float, int)):\n",
    "        raise TypeError(f\"radius must be int or float, not {type(r)}\")\n",
    "    return (4*math.pi*r**3)/3\n",
    "sphere_vol(1)\n",
    "doctest.testmod()"
   ]
  },
  {
   "cell_type": "markdown",
   "metadata": {},
   "source": [
    "Läs in en textfil som heter bamba.txt och innehåller:\n",
    "v42\n",
    "Chili sin carne\n",
    "Pannkakor\n",
    "Ärtsoppa\n",
    "Kebab\n",
    "Vegetarisk lasagne\n",
    "Läs in texterna och skriv ut dem i terminalen."
   ]
  },
  {
   "cell_type": "code",
   "execution_count": 37,
   "metadata": {},
   "outputs": [
    {
     "name": "stdout",
     "output_type": "stream",
     "text": [
      "<_io.TextIOWrapper name='bamba.txt' mode='r' encoding='cp1252'>\n",
      "v42\n",
      "Chili sin carne\n",
      "Pannkakor\n",
      "Ã„rtsoppa\n",
      "Kebab\n",
      "Vegetarisk lasagne\n",
      "\n"
     ]
    }
   ],
   "source": [
    "with open(\"bamba.txt\", \"r\") as f:\n",
    "    a = f.read()\n",
    "print(f)\n",
    "print(a)"
   ]
  },
  {
   "cell_type": "markdown",
   "metadata": {},
   "source": [
    "Uppgift 5 (3p)\n",
    "Skapa en funktion som tar in två punkter i 2D , och som returnerar tillbaka avståndet mellan\n",
    "dessa. Anropa därefter denna funktion för test\n",
    "Det finns en textfil som heter testpunkter.txt som ligger i undermappen testpoints och innehåller:\n",
    "Punkt 1, punkt 2\n",
    "(1,2), (0,0)\n",
    "(2,0), (3,5)\n",
    "...\n",
    "(-2,-2), (9,2)\n"
   ]
  },
  {
   "cell_type": "code",
   "execution_count": 55,
   "metadata": {},
   "outputs": [
    {
     "name": "stdout",
     "output_type": "stream",
     "text": [
      "[1.0, 2.0, 0.0, 0.0, 2.0, 0.0, 3.0, 5.0, -2.0, -2.0, 9.0, 2.0]\n"
     ]
    }
   ],
   "source": [
    "import math\n",
    "\n",
    "def dist(p1: tuple, p2: tuple) -> float:\n",
    "    if not isinstance(p1, tuple) or not isinstance(p2, tuple):\n",
    "        raise TypeError(\"p1 and p2 must be tuple\")\n",
    "    if len(p1) != 2 or len(p2) != 2:\n",
    "        raise ValueError(\"tuple must be length two\")\n",
    "    x1, x2 = p1\n",
    "    y1, y2 = p2\n",
    "    return math.sqrt((x2-x1)**2+(y2-y1)**2)\n",
    "\n",
    "with open(\"testpoints/testpunkter.txt\") as f:\n",
    "    lines = f.readlines()\n",
    "    lines.pop(0)\n",
    "\n",
    "    lines_clean = []\n",
    "    for line in lines:\n",
    "        line = line.replace(\"(\", \"\")\n",
    "        line = line.replace(\")\", \"\")\n",
    "        line = line.replace(\" \", \"\")\n",
    "        line = line.replace(\"\\n\", \"\")\n",
    "        lines_clean.append(line)\n",
    "\n",
    "    lines_split = []\n",
    "    for line in lines_clean:\n",
    "        lines_split.append(line.split(\",\"))\n",
    "\n",
    "    lines_floated = []\n",
    "    for line in lines_split:\n",
    "        for index in line:\n",
    "            lines_floated.append(float(index))\n",
    "print(lines_floated)\n",
    "\n",
    "\n",
    "\n",
    "\n"
   ]
  },
  {
   "cell_type": "code",
   "execution_count": 63,
   "metadata": {},
   "outputs": [
    {
     "name": "stdout",
     "output_type": "stream",
     "text": [
      "[10.0, -20.0, 30.0, 40.0]\n"
     ]
    }
   ],
   "source": [
    "s = \"(10, -20), (30, 40)\"\n",
    "t = [i.strip(\"() \") for i in s.split(\",\")]\n",
    "t\n",
    "t_clean = []\n",
    "for i in t:\n",
    "    t_clean.append(float(i))\n",
    "print(t_clean)"
   ]
  },
  {
   "cell_type": "code",
   "execution_count": 42,
   "metadata": {},
   "outputs": [
    {
     "ename": "ValueError",
     "evalue": "too many values to unpack (expected 2)",
     "output_type": "error",
     "traceback": [
      "\u001b[1;31m---------------------------------------------------------------------------\u001b[0m",
      "\u001b[1;31mValueError\u001b[0m                                Traceback (most recent call last)",
      "Cell \u001b[1;32mIn [42], line 2\u001b[0m\n\u001b[0;32m      1\u001b[0m a \u001b[39m=\u001b[39m (\u001b[39m1\u001b[39m, \u001b[39m2\u001b[39m, \u001b[39m3\u001b[39m)\n\u001b[1;32m----> 2\u001b[0m b, c \u001b[39m=\u001b[39m a\n",
      "\u001b[1;31mValueError\u001b[0m: too many values to unpack (expected 2)"
     ]
    }
   ],
   "source": [
    "a = (1, 2, 3)\n",
    "b, c = a"
   ]
  },
  {
   "cell_type": "markdown",
   "metadata": {},
   "source": [
    "Uppgift 6 (4p)\n",
    "I den här uppgiften ska du skapa ett blackjack som är ett kortspel. Förenklat är reglerna för blackjack:\n",
    "dealern tar två kort\n",
    "dealern visar sitt första kort\n",
    "spelaren tar två kort\n",
    "spelaren får välja att ta nytt kort eller stanna\n",
    "när spelaren stannar räknar man poängen genom:\n",
    "J, K, Q värda 10p\n",
    "A värd 1 eller 11\n",
    "Övriga kort värda deras valör\n",
    "om spelarens poäng mindre eller lika med 21, vinner spelaren om hens poäng överstiger dealerns,\n",
    "annars vinner dealern"
   ]
  },
  {
   "cell_type": "code",
   "execution_count": 141,
   "metadata": {},
   "outputs": [
    {
     "name": "stdout",
     "output_type": "stream",
     "text": [
      "dealer have 7\n",
      "You have 13\n",
      "dealer have 13\n",
      "tie\n"
     ]
    }
   ],
   "source": [
    "# I vanlig Blackjack har man 6 kortlekar, jag antar här istället att man har en oändligt stor kortpool.\n",
    "import random\n",
    "\n",
    "cards = [2, 3, 4, 5, 6, 7, 8, 9, 10, \"J\", \"Q\", \"K\", \"A\"]\n",
    "\n",
    "def play():\n",
    "    dealer1 = cards[random.randint(0, 12)]\n",
    "    print(f\"dealer have {dealer1}\")\n",
    "    player = []\n",
    "    player.append(cards[random.randint(0, 12)])\n",
    "    player.append(cards[random.randint(0, 12)])\n",
    "\n",
    "    while True:\n",
    "        sum = 0\n",
    "        aces = 0\n",
    "        for card in player:\n",
    "            if card == \"A\":\n",
    "                aces += 1\n",
    "            elif card == \"J\" or card == \"Q\" or card == \"K\":\n",
    "                sum += 10\n",
    "            else:\n",
    "                sum += card\n",
    "            while aces > 0:\n",
    "                if sum > 11 or aces >1:\n",
    "                    sum += 1\n",
    "                    aces -= 1\n",
    "                else:\n",
    "                    sum += 11\n",
    "                    aces -= 1\n",
    "            \n",
    "        print(f\"You have {sum}\")\n",
    "        if sum > 21:\n",
    "            print(\"you lose\")\n",
    "            break\n",
    "\n",
    "            \n",
    "        play_on = input(\"Do you want another card? y/n\")\n",
    "        if play_on == \"y\":\n",
    "            player.append(cards[random.randint(0, 12)])\n",
    "        elif play_on == \"n\":\n",
    "            break\n",
    "        else:\n",
    "            print(\"enter y for yes or n for no\")\n",
    "    \n",
    "        \n",
    "\n",
    "    dealer2 = cards[random.randint(0, 12)]\n",
    "    dealer = [dealer1, dealer2]\n",
    "\n",
    "\n",
    "    deal_sum = 0\n",
    "    aces = 0\n",
    "    for card in dealer:\n",
    "        if card == \"A\":\n",
    "            aces += 1\n",
    "        elif card == \"J\" or card == \"Q\" or card == \"K\":\n",
    "            deal_sum += 10\n",
    "        else:\n",
    "            deal_sum += card\n",
    "        while aces > 0:\n",
    "            if deal_sum > 11 or aces >1:\n",
    "                deal_sum += 1\n",
    "                aces -= 1\n",
    "            else:\n",
    "                deal_sum += 11\n",
    "                aces -= 1\n",
    "\n",
    "    print(f\"dealer have {deal_sum}\")\n",
    "    if deal_sum == sum:\n",
    "        print(\"tie\")\n",
    "    elif deal_sum > sum:\n",
    "        print(\"You lose\")\n",
    "    else:\n",
    "        print(\"You win\")\n",
    "play()\n"
   ]
  },
  {
   "cell_type": "code",
   "execution_count": 20,
   "metadata": {},
   "outputs": [
    {
     "name": "stdout",
     "output_type": "stream",
     "text": [
      "self.mu=-2, self.sigma=4\n"
     ]
    },
    {
     "data": {
      "image/png": "[encoded data removed]",
      "text/plain": [
       "<Figure size 640x480 with 1 Axes>"
      ]
     },
     "metadata": {},
     "output_type": "display_data"
    }
   ],
   "source": [
    "# Uppgift 7\n",
    "from __future__ import annotations\n",
    "import math\n",
    "import numpy as np\n",
    "import matplotlib.pyplot as plt\n",
    "\n",
    "class NormalDist:\n",
    "    def __init__(self, mu: float, sigma: float) -> None:\n",
    "        self.mu = mu\n",
    "        self.sigma = sigma\n",
    "\n",
    "    def pdf(self, x: float) -> float:\n",
    "        return 1/(self.sigma*math.sqrt(2*math.pi))*(math.e)**((-1/2)*(((x-self.mu)/self.sigma)**2))\n",
    "    \n",
    "    def plot_pdf(self, x_0, x_1) -> None:\n",
    "        x = np.linspace(x_0, x_1)\n",
    "        plt.plot(x, self.pdf(x))\n",
    "\n",
    "    def __add__(self, other: NormalDist):\n",
    "        return NormalDist(self.mu + other.mu, self.sigma + other.sigma)\n",
    "\n",
    "    def __repr__(self):\n",
    "        return f\"{self.mu=}, {self.sigma=}\"\n",
    "\n",
    "\n",
    "normal1 = NormalDist(0, 1)\n",
    "normal2 = NormalDist(-2, 3)\n",
    "normal3 = normal1 + normal2\n",
    "print(normal3)\n",
    "normal1.pdf(0)\n",
    "normal3.plot_pdf(-8, 8)\n",
    "normal1.plot_pdf(-4, 4)\n",
    "\n",
    "\n",
    "\n",
    "\n",
    "\n"
   ]
  }
 ],
 "metadata": {
  "kernelspec": {
   "display_name": "Python 3.9.13 ('Python-Hakan-Akerblom-fWPs1u-F')",
   "language": "python",
   "name": "python3"
  },
  "language_info": {
   "codemirror_mode": {
    "name": "ipython",
    "version": 3
   },
   "file_extension": ".py",
   "mimetype": "text/x-python",
   "name": "python",
   "nbconvert_exporter": "python",
   "pygments_lexer": "ipython3",
   "version": "3.9.13"
  },
  "orig_nbformat": 4,
  "vscode": {
   "interpreter": {
    "hash": "9b8982fe4dee5ea216abe18f309efc76049b2ef374ce38cf34875b7e1b48bd42"
   }
  }
 },
 "nbformat": 4,
 "nbformat_minor": 2
}
