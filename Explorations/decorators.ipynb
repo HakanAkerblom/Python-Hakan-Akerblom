{
 "cells": [
  {
   "cell_type": "code",
   "execution_count": 5,
   "metadata": {},
   "outputs": [
    {
     "name": "stdout",
     "output_type": "stream",
     "text": [
      "started\n",
      "Hello\n",
      "ended\n"
     ]
    }
   ],
   "source": [
    "# utan decorator\n",
    "\n",
    "def f1(func):\n",
    "    def wrapper():\n",
    "        print(\"started\")\n",
    "        func()\n",
    "        print(\"ended\")\n",
    "    return wrapper\n",
    "\n",
    "def f():\n",
    "    print(\"Hello\")\n",
    "\n",
    "f1(f)()"
   ]
  },
  {
   "cell_type": "code",
   "execution_count": 6,
   "metadata": {},
   "outputs": [
    {
     "name": "stdout",
     "output_type": "stream",
     "text": [
      "started\n",
      "Hello\n",
      "ended\n"
     ]
    }
   ],
   "source": [
    "# med decorators\n",
    "\n",
    "def f1(func):\n",
    "    def wrapper():\n",
    "        print(\"started\")\n",
    "        func()\n",
    "        print(\"ended\")\n",
    "    return wrapper\n",
    "\n",
    "@f1\n",
    "def f():\n",
    "    print(\"Hello\")\n",
    "\n",
    "f()\n",
    "\n"
   ]
  },
  {
   "cell_type": "code",
   "execution_count": 8,
   "metadata": {},
   "outputs": [
    {
     "name": "stdout",
     "output_type": "stream",
     "text": [
      "started\n",
      "Hi!\n",
      "ended\n"
     ]
    }
   ],
   "source": [
    "# med decorators args och kwargs\n",
    "\n",
    "def f1(func):\n",
    "    def wrapper(*args, **kwargs):\n",
    "        print(\"started\")\n",
    "        func(*args, **kwargs)\n",
    "        print(\"ended\")\n",
    "    return wrapper\n",
    "\n",
    "@f1\n",
    "def f(a):\n",
    "    print(a)\n",
    "\n",
    "f(\"Hi!\")"
   ]
  },
  {
   "cell_type": "code",
   "execution_count": null,
   "metadata": {},
   "outputs": [],
   "source": []
  }
 ],
 "metadata": {
  "kernelspec": {
   "display_name": "Python 3.9.7 ('Python-Hakan-Akerblom-YzR5GEpF')",
   "language": "python",
   "name": "python3"
  },
  "language_info": {
   "codemirror_mode": {
    "name": "ipython",
    "version": 3
   },
   "file_extension": ".py",
   "mimetype": "text/x-python",
   "name": "python",
   "nbconvert_exporter": "python",
   "pygments_lexer": "ipython3",
   "version": "3.9.7"
  },
  "orig_nbformat": 4,
  "vscode": {
   "interpreter": {
    "hash": "50c489c8ac99e50e31e555338e9585cdc55ef013013d6a283364937a133ea910"
   }
  }
 },
 "nbformat": 4,
 "nbformat_minor": 2
}
