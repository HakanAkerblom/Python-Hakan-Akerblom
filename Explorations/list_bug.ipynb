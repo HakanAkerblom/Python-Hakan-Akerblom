{
 "cells": [
  {
   "cell_type": "code",
   "execution_count": null,
   "metadata": {},
   "outputs": [],
   "source": [
    "my_list1 = [1, 2, 3]\n",
    "my_list2 = my_list1\n",
    "my_list1 += [4]\n",
    "print(my_list1) # [1, 2, 3, 4]\n",
    "print(my_list2 )# [1, 2, 3, 4]"
   ]
  },
  {
   "cell_type": "code",
   "execution_count": null,
   "metadata": {},
   "outputs": [],
   "source": [
    "my_list1 = [1, 2, 3]\n",
    "my_list2 = list(my_list1)\n",
    "my_list1 += [4]\n",
    "print(my_list1) # [1, 2, 3, 4]\n",
    "print(my_list2) # [1, 2, 3]"
   ]
  }
 ],
 "metadata": {
  "kernelspec": {
   "display_name": "Python 3.9.13 64-bit",
   "language": "python",
   "name": "python3"
  },
  "language_info": {
   "name": "python",
   "version": "3.9.13"
  },
  "orig_nbformat": 4,
  "vscode": {
   "interpreter": {
    "hash": "e4e977466a43b2c847273b721d1004e908040a7fbc17c7cbf680a20be2ddfb46"
   }
  }
 },
 "nbformat": 4,
 "nbformat_minor": 2
}
