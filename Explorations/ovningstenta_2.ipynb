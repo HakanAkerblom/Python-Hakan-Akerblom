{
 "cells": [
  {
   "cell_type": "code",
   "execution_count": 11,
   "metadata": {},
   "outputs": [
    {
     "name": "stdout",
     "output_type": "stream",
     "text": [
      "['v42\\n', 'Chili sin carne\\n', 'Pannkakor\\n', 'Ã„rtsoppa\\n', 'Kebab\\n', 'Vegetarisk lasagne\\n']\n",
      "v42\n",
      "Mån: Chili sin carne\n",
      "Tis: Pannkakor\n",
      "Ons: Ã„rtsoppa\n",
      "Tor: Kebab\n",
      "Fre: Vegetarisk lasagne\n"
     ]
    }
   ],
   "source": [
    "# Uppgift 4\n",
    "with open(\"bamba.txt\", \"r\") as f:\n",
    "    meny = f.readlines()\n",
    "print(meny)\n",
    "veckodagar = [\"Mån\", \"Tis\", \"Ons\", \"Tor\", \"Fre\"]\n",
    "\n",
    "for index, (dag, mat) in enumerate(zip(veckodagar, meny)):\n",
    "    meny[index+1] = veckodagar[index] + \": \" + meny[index+1]\n",
    "\n",
    "for mat in meny:\n",
    "    print(mat, end = \"\")\n",
    "\n"
   ]
  },
  {
   "cell_type": "code",
   "execution_count": 22,
   "metadata": {},
   "outputs": [
    {
     "name": "stdout",
     "output_type": "stream",
     "text": [
      "Tvåhundralapp: 1\n",
      "Tiokrona: 19\n",
      "Enkrona: 9\n"
     ]
    }
   ],
   "source": [
    "# Uppgift 6\n",
    "\n",
    "def change():\n",
    "    pengar = int(input(\"Ange ett heltal\"))\n",
    "    enkronor = pengar % 10\n",
    "    tiokronor = (pengar % 200 - enkronor)//10\n",
    "    tvahundralappar = (pengar % 1000 - tiokronor - enkronor)//200\n",
    "    tusenlappar = (pengar % 10000 - tvahundralappar - tiokronor - enkronor)//1000\n",
    "    if pengar > 1000:\n",
    "        print(f\"Tusenlapp: {tusenlappar}\")\n",
    "    if pengar > 100:\n",
    "        print(f\"Tvåhundralapp: {tvahundralappar}\")\n",
    "    if pengar > 10:\n",
    "        print(f\"Tiokrona: {tiokronor}\")\n",
    "    print(f\"Enkrona: {enkronor}\")\n",
    "change()"
   ]
  },
  {
   "cell_type": "code",
   "execution_count": 9,
   "metadata": {},
   "outputs": [
    {
     "name": "stdout",
     "output_type": "stream",
     "text": [
      "Ada owns: \n",
      " ['Dog: Snoopy', 'Dog: Pluto'] \n",
      " ['Fish: Fishy', 'Fish: Buppy']\n"
     ]
    },
    {
     "ename": "TypeError",
     "evalue": "__str__ returned non-string (type NoneType)",
     "output_type": "error",
     "traceback": [
      "\u001b[1;31m---------------------------------------------------------------------------\u001b[0m",
      "\u001b[1;31mTypeError\u001b[0m                                 Traceback (most recent call last)",
      "Cell \u001b[1;32mIn [9], line 37\u001b[0m\n\u001b[0;32m     35\u001b[0m owner2 \u001b[39m=\u001b[39m PetOwner(\u001b[39m\"\u001b[39m\u001b[39mBeda\u001b[39m\u001b[39m\"\u001b[39m, [\u001b[39m\"\u001b[39m\u001b[39mBarkly\u001b[39m\u001b[39m\"\u001b[39m])\n\u001b[0;32m     36\u001b[0m \u001b[39mprint\u001b[39m(owner1)\n\u001b[1;32m---> 37\u001b[0m \u001b[39mprint\u001b[39m(owner2)\n",
      "\u001b[1;31mTypeError\u001b[0m: __str__ returned non-string (type NoneType)"
     ]
    }
   ],
   "source": [
    "class Animal:\n",
    "    def __init__(self, name):\n",
    "        self.name = name\n",
    "\n",
    "    def __str__(self):\n",
    "        return f\"Animal {self.name}\"\n",
    "\n",
    "class Dog(Animal):\n",
    "    # notera att __init__ är nedärvd\n",
    "    def __repr__(self):\n",
    "        return f\"Dog: {self.name}\"\n",
    "\n",
    "class Fish(Animal):\n",
    "    def __repr__(self):\n",
    "        return f\"Fish: {self.name}\"\n",
    "\n",
    "#TODO: implementera PetOwner\n",
    "class PetOwner:\n",
    "    def __init__(self, name, dogs: list = [], fish: list = []) -> None:\n",
    "        self.name = name\n",
    "        self.dogs = [Dog(name) for name in dogs]\n",
    "        self.fish = [Fish(name) for name in fish]\n",
    "    \n",
    "    def __repr__(self):\n",
    "        if self.fish and self.dogs:\n",
    "            return f\"{self.name} owns: \\n {[repr(dog) for dog in self.dogs]} \\n {[repr(fish) for fish in self.fish]}\"\n",
    "        elif self.dogs:\n",
    "            return f\"{self.name} owns: \\n {[repr(dog) for dog in self.dogs]}\"\n",
    "        elif self.fish:\n",
    "            return f\"{self.name} owns: \\n {[repr(fish) for fish in self.fish]}\"\n",
    "        else:\n",
    "            return f\"{self.name} owns no animals\"\n",
    "        \n",
    "owner1 = PetOwner(\"Ada\", [\"Snoopy\", \"Pluto\"], [\"Fishy\", \"Buppy\"])\n",
    "owner2 = PetOwner(\"Beda\", [\"Barkly\"])\n",
    "print(owner1)\n",
    "print(owner2)"
   ]
  }
 ],
 "metadata": {
  "kernelspec": {
   "display_name": "Python 3.9.13 ('Python-Hakan-Akerblom-fWPs1u-F')",
   "language": "python",
   "name": "python3"
  },
  "language_info": {
   "codemirror_mode": {
    "name": "ipython",
    "version": 3
   },
   "file_extension": ".py",
   "mimetype": "text/x-python",
   "name": "python",
   "nbconvert_exporter": "python",
   "pygments_lexer": "ipython3",
   "version": "3.9.13"
  },
  "orig_nbformat": 4,
  "vscode": {
   "interpreter": {
    "hash": "9b8982fe4dee5ea216abe18f309efc76049b2ef374ce38cf34875b7e1b48bd42"
   }
  }
 },
 "nbformat": 4,
 "nbformat_minor": 2
}
