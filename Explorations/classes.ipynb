{
 "cells": [
  {
   "cell_type": "code",
   "execution_count": 1,
   "metadata": {},
   "outputs": [
    {
     "name": "stdout",
     "output_type": "stream",
     "text": [
      "3.141592653589793\n"
     ]
    }
   ],
   "source": [
    "import math\n",
    "\n",
    "class Circle:\n",
    "    def __init__(self, radie) -> None:\n",
    "        self.radie = radie\n",
    "\n",
    "    @property\n",
    "    def area(self):\n",
    "        return math.pi*self.radie**2\n",
    "    \n",
    "\n",
    "c = Circle(1)\n",
    "print(c.area)\n",
    "\n",
    "# varför inte använda metod? \n",
    "# Det är mer logiskt att area är en egenskap än en metod\n",
    "\n",
    "# varför inte skriva self.area = math.pi*self.radie**2?\n",
    "# För då kan man ändra arean utan att man ändrar radien\n"
   ]
  },
  {
   "cell_type": "code",
   "execution_count": null,
   "metadata": {},
   "outputs": [],
   "source": []
  }
 ],
 "metadata": {
  "kernelspec": {
   "display_name": "Python 3.9.13 ('Python-Hakan-Akerblom-fWPs1u-F')",
   "language": "python",
   "name": "python3"
  },
  "language_info": {
   "name": "python",
   "version": "3.9.13"
  },
  "orig_nbformat": 4,
  "vscode": {
   "interpreter": {
    "hash": "9b8982fe4dee5ea216abe18f309efc76049b2ef374ce38cf34875b7e1b48bd42"
   }
  }
 },
 "nbformat": 4,
 "nbformat_minor": 2
}
