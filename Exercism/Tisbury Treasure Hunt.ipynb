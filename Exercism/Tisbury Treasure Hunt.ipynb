{
 "cells": [
  {
   "cell_type": "code",
   "execution_count": 22,
   "metadata": {},
   "outputs": [],
   "source": [
    "from __future__ import annotations\n",
    "\n",
    "def get_coordinate(treasure, coordinate):\n",
    "    return coordinate\n",
    "\n",
    "def convert_coordinate(coordinate):\n",
    "    coordinate0 = coordinate[0]\n",
    "    coordinate1 = coordinate[1]\n",
    "    list1 = [coordinate0, coordinate1]\n",
    "    return tuple(list1)\n",
    "\n",
    "def compare_records(tuple1, tuple2):\n",
    "    print(convert_coordinate(tuple1[1]))\n",
    "    print(tuple2[1])\n",
    "    if convert_coordinate(tuple1[1]) == tuple2[1]:\n",
    "        return True\n",
    "    else:\n",
    "        return False\n",
    "\n",
    "def create_record(treasure: str, coordinate_1: str, location: str, coordinate_2: tuple, quadrant: str):\n",
    "    print(convert_coordinate(coordinate_1))\n",
    "    print(coordinate_2)\n",
    "    if convert_coordinate(coordinate_1) == coordinate_2:\n",
    "        return (treasure, coordinate_1, location, coordinate_2, quadrant)\n",
    "    else:\n",
    "        return \"not a match\"\n",
    "\n",
    "def clean_up(*args: tuple):\n",
    "    for arg in args:\n",
    "        print(arg[0], arg[2], arg[3], arg[4]+\"\\n\")\n"
   ]
  },
  {
   "cell_type": "code",
   "execution_count": 23,
   "metadata": {},
   "outputs": [
    {
     "name": "stdout",
     "output_type": "stream",
     "text": [
      "('8', 'A')\n",
      "('8', 'A')\n"
     ]
    },
    {
     "data": {
      "text/plain": [
       "True"
      ]
     },
     "execution_count": 23,
     "metadata": {},
     "output_type": "execute_result"
    }
   ],
   "source": [
    "compare_records(('Model Ship in Large Bottle', '8A'), ('Harbor Managers Office', ('8', 'A'), 'purple'))"
   ]
  },
  {
   "cell_type": "code",
   "execution_count": 8,
   "metadata": {},
   "outputs": [
    {
     "ename": "TypeError",
     "evalue": "tuple expected at most 1 argument, got 2",
     "output_type": "error",
     "traceback": [
      "\u001b[1;31m---------------------------------------------------------------------------\u001b[0m",
      "\u001b[1;31mTypeError\u001b[0m                                 Traceback (most recent call last)",
      "Cell \u001b[1;32mIn [8], line 1\u001b[0m\n\u001b[1;32m----> 1\u001b[0m a \u001b[39m=\u001b[39m \u001b[39mtuple\u001b[39m(\u001b[39m1\u001b[39m, \u001b[39m2\u001b[39m)\n\u001b[0;32m      2\u001b[0m \u001b[39mprint\u001b[39m(a)\n",
      "\u001b[1;31mTypeError\u001b[0m: tuple expected at most 1 argument, got 2"
     ]
    }
   ],
   "source": [
    "a = tuple(1, 2)\n",
    "print(a)"
   ]
  },
  {
   "cell_type": "code",
   "execution_count": null,
   "metadata": {},
   "outputs": [],
   "source": []
  }
 ],
 "metadata": {
  "kernelspec": {
   "display_name": "Python 3.9.13 ('Python-Hakan-Akerblom-fWPs1u-F')",
   "language": "python",
   "name": "python3"
  },
  "language_info": {
   "codemirror_mode": {
    "name": "ipython",
    "version": 3
   },
   "file_extension": ".py",
   "mimetype": "text/x-python",
   "name": "python",
   "nbconvert_exporter": "python",
   "pygments_lexer": "ipython3",
   "version": "3.9.13"
  },
  "orig_nbformat": 4,
  "vscode": {
   "interpreter": {
    "hash": "9b8982fe4dee5ea216abe18f309efc76049b2ef374ce38cf34875b7e1b48bd42"
   }
  }
 },
 "nbformat": 4,
 "nbformat_minor": 2
}
