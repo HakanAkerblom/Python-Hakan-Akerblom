{
 "cells": [
  {
   "cell_type": "code",
   "execution_count": 33,
   "metadata": {},
   "outputs": [
    {
     "ename": "SyntaxError",
     "evalue": "from __future__ imports must occur at the beginning of the file (<magic-timeit>, line 1)",
     "output_type": "error",
     "traceback": [
      "Traceback \u001b[1;36m(most recent call last)\u001b[0m:\n",
      "\u001b[0m  File \u001b[0;32mc:\\Users\\hakan\\.virtualenvs\\Python-Hakan-Akerblom-fWPs1u-F\\lib\\site-packages\\IPython\\core\\interactiveshell.py:3378\u001b[0m in \u001b[0;35mrun_code\u001b[0m\n    exec(code_obj, self.user_global_ns, self.user_ns)\u001b[0m\n",
      "\u001b[0m  Cell \u001b[0;32mIn [33], line 1\u001b[0m\n    get_ipython().run_cell_magic('timeit', '', 'from __future__ import annotations\\n\\ndef find_fewest_coins(coins: (int | float), target: list) -> list:\\n    # coins is int or float\\n    if not isinstance(coins, (int, float)): # ifall instance (coins) INTE är (int, float)\\n        raise TypeError(f\"Coins must be a number, not {type(coins).name}\")\\n    # coins is not negative\\n    if coins < 0:\\n        raise ValueError(f\"Coins must be greater than zero, not {coins}\")\\n    # target is list\\n    if type(target) != list:\\n        raise TypeError(f\"Target must be a list, not a{type(target).name}\")\\n    # target contains only int or float\\n    # target contains only values greater than 0\\n    for index, value in enumerate(target):\\n        if not isinstance(value, (int, float)):\\n            raise TypeError(f\"Target must contain numbers, value index {index} ({value}) is not accepted\")\\n        if not value > 0: # ifall inte värdet är större än 0\\n            raise ValueError(f\"Target must contain values over 0, value at index {index} ({value}) not accepted.\")\\n    return_list = []\\n    for index, value in enumerate(target):\\n        if index + 1 == len(target):\\n            if coins == 0:\\n                break\\n            else:\\n                return_list.append(coins // value)\\n        else:\\n            count = coins % target[index + 1]\\n            for i in range(count // value):\\n                return_list.append(value)\\n        coins -= count\\n    return return_list\\n\\nfind_fewest_coins(99, [1, 5, 10, 25, 100])\\n')\u001b[0m\n",
      "\u001b[0m  File \u001b[0;32mc:\\Users\\hakan\\.virtualenvs\\Python-Hakan-Akerblom-fWPs1u-F\\lib\\site-packages\\IPython\\core\\interactiveshell.py:2362\u001b[0m in \u001b[0;35mrun_cell_magic\u001b[0m\n    result = fn(*args, **kwargs)\u001b[0m\n",
      "\u001b[0m  File \u001b[0;32mc:\\Users\\hakan\\.virtualenvs\\Python-Hakan-Akerblom-fWPs1u-F\\lib\\site-packages\\IPython\\core\\magics\\execution.py:1139\u001b[0m in \u001b[0;35mtimeit\u001b[0m\n    code = self.shell.compile(timeit_ast, \"<magic-timeit>\", \"exec\")\u001b[0m\n",
      "\u001b[1;36m  File \u001b[1;32m~\\AppData\\Local\\Programs\\Python\\Python39\\lib\\codeop.py:143\u001b[1;36m in \u001b[1;35m__call__\u001b[1;36m\n\u001b[1;33m    codeob = compile(source, filename, symbol, self.flags, True)\u001b[1;36m\n",
      "\u001b[1;36m  File \u001b[1;32m<magic-timeit>:1\u001b[1;36m\u001b[0m\n\u001b[1;31mSyntaxError\u001b[0m\u001b[1;31m:\u001b[0m from __future__ imports must occur at the beginning of the file\n"
     ]
    }
   ],
   "source": [
    "%%timeit\n",
    "from __future__ import annotations\n",
    "\n",
    "def find_fewest_coins(coins: (int | float), target: list) -> list:\n",
    "    # coins is int or float\n",
    "    if not isinstance(coins, (int, float)): # ifall instance (coins) INTE är (int, float)\n",
    "        raise TypeError(f\"Coins must be a number, not {type(coins).name}\")\n",
    "    # coins is not negative\n",
    "    if coins < 0:\n",
    "        raise ValueError(f\"Coins must be greater than zero, not {coins}\")\n",
    "    # target is list\n",
    "    if type(target) != list:\n",
    "        raise TypeError(f\"Target must be a list, not a{type(target).name}\")\n",
    "    # target contains only int or float\n",
    "    # target contains only values greater than 0\n",
    "    for index, value in enumerate(target):\n",
    "        if not isinstance(value, (int, float)):\n",
    "            raise TypeError(f\"Target must contain numbers, value index {index} ({value}) is not accepted\")\n",
    "        if not value > 0: # ifall inte värdet är större än 0\n",
    "            raise ValueError(f\"Target must contain values over 0, value at index {index} ({value}) not accepted.\")\n",
    "    return_list = []\n",
    "    for index, value in enumerate(target):\n",
    "        if index + 1 == len(target):\n",
    "            if coins == 0:\n",
    "                break\n",
    "            else:\n",
    "                return_list.append(coins // value)\n",
    "        else:\n",
    "            count = coins % target[index + 1]\n",
    "            for i in range(count // value):\n",
    "                return_list.append(value)\n",
    "        coins -= count\n",
    "    return return_list\n",
    "\n",
    "find_fewest_coins(99, [1, 5, 10, 25, 100])"
   ]
  },
  {
   "cell_type": "code",
   "execution_count": 8,
   "metadata": {},
   "outputs": [
    {
     "ename": "TypeError",
     "evalue": "'float' object cannot be interpreted as an integer",
     "output_type": "error",
     "traceback": [
      "\u001b[1;31m---------------------------------------------------------------------------\u001b[0m",
      "\u001b[1;31mTypeError\u001b[0m                                 Traceback (most recent call last)",
      "Cell \u001b[1;32mIn [8], line 1\u001b[0m\n\u001b[1;32m----> 1\u001b[0m \u001b[39mfor\u001b[39;00m i \u001b[39min\u001b[39;00m \u001b[39mrange\u001b[39m(\u001b[39m3.0\u001b[39m):\n\u001b[0;32m      2\u001b[0m     \u001b[39mprint\u001b[39m(\u001b[39m\"\u001b[39m\u001b[39mhej\u001b[39m\u001b[39m\"\u001b[39m)\n",
      "\u001b[1;31mTypeError\u001b[0m: 'float' object cannot be interpreted as an integer"
     ]
    }
   ],
   "source": [
    "for i in range(3.0):\n",
    "    print(\"hej\")"
   ]
  },
  {
   "cell_type": "code",
   "execution_count": null,
   "metadata": {},
   "outputs": [],
   "source": []
  }
 ],
 "metadata": {
  "kernelspec": {
   "display_name": "Python 3.9.13 ('Python-Hakan-Akerblom-fWPs1u-F')",
   "language": "python",
   "name": "python3"
  },
  "language_info": {
   "codemirror_mode": {
    "name": "ipython",
    "version": 3
   },
   "file_extension": ".py",
   "mimetype": "text/x-python",
   "name": "python",
   "nbconvert_exporter": "python",
   "pygments_lexer": "ipython3",
   "version": "3.9.13"
  },
  "orig_nbformat": 4,
  "vscode": {
   "interpreter": {
    "hash": "9b8982fe4dee5ea216abe18f309efc76049b2ef374ce38cf34875b7e1b48bd42"
   }
  }
 },
 "nbformat": 4,
 "nbformat_minor": 2
}
