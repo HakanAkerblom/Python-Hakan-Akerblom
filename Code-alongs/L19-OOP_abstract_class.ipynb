{
 "cells": [
  {
   "cell_type": "markdown",
   "metadata": {},
   "source": [
    "# Abstract classes"
   ]
  },
  {
   "cell_type": "markdown",
   "metadata": {},
   "source": [
    "## Problem description\n",
    "\n",
    "3 developers, the task is to implement a photosyntesis method for 3 different plants"
   ]
  },
  {
   "cell_type": "code",
   "execution_count": 6,
   "metadata": {},
   "outputs": [
    {
     "name": "stdout",
     "output_type": "stream",
     "text": [
      "Venus eating bugs\n",
      "VenusFlyTrap does photosyntesis\n"
     ]
    }
   ],
   "source": [
    "# developer 1\n",
    "class VenusFlyTrap:\n",
    "    def venus_photosyntesis(self):\n",
    "        print(\"Venus eating bugs\")\n",
    "        # checks the instance's class and the class' name\n",
    "        print(f\"{self.__class__.__name__} does photosyntesis\")\n",
    "\n",
    "\n",
    "# developer 2\n",
    "class Monstera:\n",
    "    def monstera_photosyntesis(self):\n",
    "        print(\"Monstera looking cool\")\n",
    "        print(f\"{self.__class__.__name__} does photosyntesis\")\n",
    "\n",
    "# developer 3\n",
    "class MoneyPlant:\n",
    "    def photosyntesis(self):\n",
    "        print(\"Money hopefully comes in ...\")\n",
    "        print(f\"{self.__class__.__name__} does photosyntesis\")\n",
    "\n",
    "venus = VenusFlyTrap()\n",
    "venus.venus_photosyntesis()\n"
   ]
  },
  {
   "cell_type": "code",
   "execution_count": null,
   "metadata": {},
   "outputs": [],
   "source": [
    "# want to use polymorphism and loop throug these plants\n",
    "plants = (VenusFlyTrap(), Monstera(), MoneyPlant())\n",
    "for plant in plants:\n",
    "    plant.photosyntesis()\n",
    "    \n"
   ]
  },
  {
   "cell_type": "markdown",
   "metadata": {},
   "source": [
    "## ABC - Abstract Base Class\n",
    "\n",
    "- can make a base class abstract by giving it at least 1 abstract method\n",
    "- can't instantiate from an abstract class\n",
    "- subclasses of this abstract class must implement the abstract methods in order to be instantiable"
   ]
  },
  {
   "cell_type": "code",
   "execution_count": 7,
   "metadata": {},
   "outputs": [
    {
     "ename": "TypeError",
     "evalue": "Can't instantiate abstract class Plant with abstract method photosynthesis",
     "output_type": "error",
     "traceback": [
      "\u001b[1;31m---------------------------------------------------------------------------\u001b[0m",
      "\u001b[1;31mTypeError\u001b[0m                                 Traceback (most recent call last)",
      "Cell \u001b[1;32mIn [7], line 9\u001b[0m\n\u001b[0;32m      5\u001b[0m     \u001b[39m@abstractmethod\u001b[39m\n\u001b[0;32m      6\u001b[0m     \u001b[39mdef\u001b[39;00m \u001b[39mphotosynthesis\u001b[39m(\u001b[39mself\u001b[39m):\n\u001b[0;32m      7\u001b[0m         \u001b[39mpass\u001b[39;00m\n\u001b[1;32m----> 9\u001b[0m planty \u001b[39m=\u001b[39m Plant()\n",
      "\u001b[1;31mTypeError\u001b[0m: Can't instantiate abstract class Plant with abstract method photosynthesis"
     ]
    }
   ],
   "source": [
    "from abc import abstractmethod, ABC\n",
    "\n",
    "# the abstract class must inherit from ABC - abstract base class\n",
    "class Plant(ABC):\n",
    "    @abstractmethod\n",
    "    def photosynthesis(self):\n",
    "        pass\n",
    "\n",
    "# can't instantiate from an abstract class, a class is abstract if it has an abstract method\n",
    "planty = Plant()"
   ]
  },
  {
   "cell_type": "code",
   "execution_count": 8,
   "metadata": {},
   "outputs": [
    {
     "ename": "TypeError",
     "evalue": "Can't instantiate abstract class MoneyPlant with abstract method photosynthesis",
     "output_type": "error",
     "traceback": [
      "\u001b[1;31m---------------------------------------------------------------------------\u001b[0m",
      "\u001b[1;31mTypeError\u001b[0m                                 Traceback (most recent call last)",
      "Cell \u001b[1;32mIn [8], line 29\u001b[0m\n\u001b[0;32m     26\u001b[0m         \u001b[39mprint\u001b[39m(\u001b[39m\"\u001b[39m\u001b[39mMoney hopefully comes in ...\u001b[39m\u001b[39m\"\u001b[39m)\n\u001b[0;32m     27\u001b[0m         \u001b[39mprint\u001b[39m(\u001b[39mf\u001b[39m\u001b[39m\"\u001b[39m\u001b[39m{\u001b[39;00m\u001b[39mself\u001b[39m\u001b[39m.\u001b[39m\u001b[39m__class__\u001b[39m\u001b[39m.\u001b[39m\u001b[39m__name__\u001b[39m\u001b[39m}\u001b[39;00m\u001b[39m does photosyntesis\u001b[39m\u001b[39m\"\u001b[39m)\n\u001b[1;32m---> 29\u001b[0m monet \u001b[39m=\u001b[39m MoneyPlant()\n\u001b[0;32m     30\u001b[0m \u001b[39mprint\u001b[39m(monet)\n\u001b[0;32m     32\u001b[0m monsteru \u001b[39m=\u001b[39m Monstera()\n",
      "\u001b[1;31mTypeError\u001b[0m: Can't instantiate abstract class MoneyPlant with abstract method photosynthesis"
     ]
    }
   ],
   "source": [
    "from abc import abstractmethod, ABC\n",
    "\n",
    "# the abstract class must inherit from ABC - abstract base class\n",
    "class Plant(ABC):\n",
    "    @abstractmethod\n",
    "    def photosynthesis(self):\n",
    "        pass\n",
    "\n",
    "# developer 1\n",
    "class VenusFlyTrap(Plant):\n",
    "    def venus_photosyntesis(self):\n",
    "        print(\"Venus eating bugs\")\n",
    "        # checks the instance's class and the class' name\n",
    "        print(f\"{self.__class__.__name__} does photosyntesis\")\n",
    "\n",
    "\n",
    "# developer 2\n",
    "class Monstera(Plant):\n",
    "    def monstera_photosyntesis(self):\n",
    "        print(\"Monstera looking cool\")\n",
    "        print(f\"{self.__class__.__name__} does photosyntesis\")\n",
    "\n",
    "# developer 3\n",
    "class MoneyPlant(Plant):\n",
    "    def photosyntesis(self):\n",
    "        print(\"Money hopefully comes in ...\")\n",
    "        print(f\"{self.__class__.__name__} does photosyntesis\")\n",
    "\n",
    "monet = MoneyPlant()\n",
    "print(monet)\n",
    "\n",
    "# we inherit from Plnat, so Monstera has a method called photosyntesis that is abstract, which makes Monstera abstrcat\n",
    "monsteru = Monstera()\n"
   ]
  },
  {
   "cell_type": "code",
   "execution_count": 12,
   "metadata": {},
   "outputs": [
    {
     "name": "stdout",
     "output_type": "stream",
     "text": [
      "<__main__.MoneyPlant object at 0x000002A1E80B9070>\n",
      "Monstera looking cool\n",
      "Monstera does photosyntesis\n",
      "Money hopefully comes in ...\n",
      "MoneyPlant does photosyntesis\n",
      "Venus eating bugs\n",
      "VenusFlyTrap does photosyntesis\n"
     ]
    }
   ],
   "source": [
    "from abc import abstractmethod, ABC\n",
    "\n",
    "# the abstract class must inherit from ABC - abstract base class\n",
    "class Plant(ABC):\n",
    "    @abstractmethod\n",
    "    def photosynthesis(self):\n",
    "        pass\n",
    "\n",
    "# developer 1\n",
    "class VenusFlyTrap(Plant):\n",
    "    def photosynthesis(self):\n",
    "        print(\"Venus eating bugs\")\n",
    "        # checks the instance's class and the class' name\n",
    "        print(f\"{self.__class__.__name__} does photosyntesis\")\n",
    "\n",
    "\n",
    "# developer 2\n",
    "class Monstera(Plant):\n",
    "    def photosynthesis(self):\n",
    "        print(\"Monstera looking cool\")\n",
    "        print(f\"{self.__class__.__name__} does photosyntesis\")\n",
    "\n",
    "# developer 3\n",
    "class MoneyPlant(Plant):\n",
    "    def photosynthesis(self):\n",
    "        print(\"Money hopefully comes in ...\")\n",
    "        print(f\"{self.__class__.__name__} does photosyntesis\")\n",
    "\n",
    "monet = MoneyPlant()\n",
    "print(monet)\n",
    "\n",
    "venus = VenusFlyTrap()\n",
    "\n",
    "# we inherit from Plnat, so Monstera has a method called photosyntesis that is abstract, which makes Monstera abstrcat\n",
    "monsteru = Monstera()\n",
    "\n",
    "for plant in (monsteru, monet, venus):\n",
    "    plant.photosynthesis()"
   ]
  }
 ],
 "metadata": {
  "kernelspec": {
   "display_name": "Python 3.9.13 ('Python-Hakan-Akerblom-fWPs1u-F')",
   "language": "python",
   "name": "python3"
  },
  "language_info": {
   "codemirror_mode": {
    "name": "ipython",
    "version": 3
   },
   "file_extension": ".py",
   "mimetype": "text/x-python",
   "name": "python",
   "nbconvert_exporter": "python",
   "pygments_lexer": "ipython3",
   "version": "3.9.13"
  },
  "orig_nbformat": 4,
  "vscode": {
   "interpreter": {
    "hash": "9b8982fe4dee5ea216abe18f309efc76049b2ef374ce38cf34875b7e1b48bd42"
   }
  }
 },
 "nbformat": 4,
 "nbformat_minor": 2
}
