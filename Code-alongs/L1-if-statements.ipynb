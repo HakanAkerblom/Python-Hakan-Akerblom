{
 "cells": [
  {
   "cell_type": "markdown",
   "metadata": {},
   "source": [
    "## If-statements"
   ]
  },
  {
   "cell_type": "code",
   "execution_count": 6,
   "metadata": {},
   "outputs": [
    {
     "name": "stdout",
     "output_type": "stream",
     "text": [
      "Välkommen in\n"
     ]
    }
   ],
   "source": [
    "age = int(input(\"Hur gammal är du?\"))\n",
    "\n",
    "if age < 18:\n",
    "    print(\"Du får inte gå in i puben\")\n",
    "else:\n",
    "    print(\"Välkommen in\")"
   ]
  },
  {
   "cell_type": "code",
   "execution_count": 8,
   "metadata": {},
   "outputs": [
    {
     "name": "stdout",
     "output_type": "stream",
     "text": [
      "Du får inte åka Balder\n"
     ]
    }
   ],
   "source": [
    "age = 15\n",
    "height  = 220\n",
    "\n",
    "if age > 10 and 130 < height < 210:\n",
    "    print(\"Du får åka Balder\")\n",
    "else:\n",
    "    print(\"Du får inte åka Balder\")"
   ]
  },
  {
   "cell_type": "markdown",
   "metadata": {},
   "source": [
    "## If elif - else\n",
    "\n",
    "```py\n",
    "if condition:\n",
    "    statement_1\n",
    "    ...\n",
    "    statement_n\n",
    "elif condition:\n",
    "    statement_1\n",
    "    ...\n",
    "    statement_n\n",
    "elif condition:\n",
    "    statement_1\n",
    "    ...\n",
    "    statement_n\n",
    "else condition:\n",
    "    statement_1\n",
    "    ...\n",
    "    statement_n\n",
    "    \n",
    "program continues\n",
    "```"
   ]
  },
  {
   "cell_type": "markdown",
   "metadata": {},
   "source": [
    "## Modulo Operator  %"
   ]
  },
  {
   "cell_type": "code",
   "execution_count": 10,
   "metadata": {},
   "outputs": [
    {
     "name": "stdout",
     "output_type": "stream",
     "text": [
      "jämnt tal\n"
     ]
    }
   ],
   "source": [
    "number = 42\n",
    "\n",
    "if number % 2 == 0:\n",
    "    print(\"jämnt tal\")"
   ]
  },
  {
   "cell_type": "markdown",
   "metadata": {},
   "source": []
  }
 ],
 "metadata": {
  "kernelspec": {
   "display_name": "Python 3.9.13 ('Python-Hakan-Akerblom-fWPs1u-F')",
   "language": "python",
   "name": "python3"
  },
  "language_info": {
   "codemirror_mode": {
    "name": "ipython",
    "version": 3
   },
   "file_extension": ".py",
   "mimetype": "text/x-python",
   "name": "python",
   "nbconvert_exporter": "python",
   "pygments_lexer": "ipython3",
   "version": "3.9.13"
  },
  "orig_nbformat": 4,
  "vscode": {
   "interpreter": {
    "hash": "9b8982fe4dee5ea216abe18f309efc76049b2ef374ce38cf34875b7e1b48bd42"
   }
  }
 },
 "nbformat": 4,
 "nbformat_minor": 2
}
