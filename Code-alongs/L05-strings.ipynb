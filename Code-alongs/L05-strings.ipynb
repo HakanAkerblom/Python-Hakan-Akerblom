{
 "cells": [
  {
   "cell_type": "markdown",
   "metadata": {},
   "source": [
    "# Strings"
   ]
  },
  {
   "cell_type": "code",
   "execution_count": 5,
   "metadata": {},
   "outputs": [
    {
     "name": "stdout",
     "output_type": "stream",
     "text": [
      "Håkan Åkerblom\n",
      "\n",
      "Name: Håkan Åkerblom,\n",
      "Age: 38,\n",
      "Address: Göteborg,\n",
      "Phone: 123456\n",
      "\n"
     ]
    }
   ],
   "source": [
    "firstname = \"Håkan\"\n",
    "lastname = \"Åkerblom\"\n",
    "\n",
    "# concatenate strings\n",
    "name = firstname + \" \" + lastname\n",
    "age = 38\n",
    "address = \"Göteborg\"\n",
    "phone = \"123456\"\n",
    "\n",
    "print(name)\n",
    "\n",
    "# Multiline f-string\n",
    "contact = f\"\"\"\n",
    "Name: {name},\n",
    "Age: {age},\n",
    "Address: {address},\n",
    "Phone: {phone}\n",
    "\"\"\"\n",
    "\n",
    "print(contact)"
   ]
  },
  {
   "cell_type": "markdown",
   "metadata": {},
   "source": [
    "## Iterate through lists and concatinates"
   ]
  },
  {
   "cell_type": "code",
   "execution_count": 8,
   "metadata": {},
   "outputs": [
    {
     "name": "stdout",
     "output_type": "stream",
     "text": [
      "Plan \n",
      "Må: AI-intro\n",
      "Ti: Python\n",
      "On: Matte\n",
      "To: Självstudier\n",
      "Fr: Chilla\n",
      "\n"
     ]
    }
   ],
   "source": [
    "schedule = [\"AI-intro\", \"Python\", \"Matte\", \"Självstudier\", \"Chilla\"]\n",
    "days = [\"Må\", \"Ti\", \"On\", \"To\", \"Fr\" , \"Lö\"]\n",
    "\n",
    "# \\n -> nwewline\n",
    "week_plan = \"Plan \\n\"\n",
    "\n",
    "# Plan\n",
    "# Må: AI intro\n",
    "# Ti: Python\n",
    "# ...\n",
    "\n",
    "for day, task in zip(days, schedule):\n",
    "    week_plan += f\"{day}: {task}\\n\"\n",
    "print(week_plan)"
   ]
  },
  {
   "cell_type": "markdown",
   "metadata": {},
   "source": [
    "## Indexing"
   ]
  },
  {
   "cell_type": "code",
   "execution_count": 17,
   "metadata": {},
   "outputs": [
    {
     "name": "stdout",
     "output_type": "stream",
     "text": [
      "quote[0]='!'\n",
      "quote[:6]='!False'\n",
      "quote[-4:]='true'\n",
      "Backwards: quote[::-1]=\"eurt s'ti esuaceb tnnuf s'ti - eslaF!\"\n",
      "Length of string: 37 characters\n"
     ]
    }
   ],
   "source": [
    "quote = \"!False - it's funnt because it's true\"\n",
    "\n",
    "\n",
    "print(f\"{quote[0]=}\")\n",
    "print(f\"{quote[:6]=}\")\n",
    "print(f\"{quote[-4:]=}\")\n",
    "\n",
    "print(f\"Backwards: {quote[::-1]=}\")\n",
    "\n",
    "print(f\"Length of string: {len(quote)} characters\")"
   ]
  },
  {
   "cell_type": "markdown",
   "metadata": {},
   "source": [
    "## Split strings"
   ]
  },
  {
   "cell_type": "code",
   "execution_count": 24,
   "metadata": {},
   "outputs": [
    {
     "name": "stdout",
     "output_type": "stream",
     "text": [
      "numbers=[1.0, 2.0, 3.0]\n",
      "mean_value=2.0\n"
     ]
    }
   ],
   "source": [
    "# not possible\n",
    "# numbers = float(input(\"Ange tre tal (separerade med kommatecken): \"))\n",
    "\n",
    "numbers = input(\"Ange tre tal (separerade med kommatecken): \")\n",
    "# 1. split the string into a list of 3 strings. \n",
    "# 2. typeconvert each string into a float by iterating through the list\n",
    "\n",
    "numbers = [float(number) for number in numbers.split(\",\")]\n",
    "mean_value = sum(numbers)/len(numbers)\n",
    "\n",
    "print(f\"{numbers=}\")\n",
    "print(f\"{mean_value=}\")\n",
    "\n"
   ]
  },
  {
   "cell_type": "code",
   "execution_count": 25,
   "metadata": {},
   "outputs": [
    {
     "name": "stdout",
     "output_type": "stream",
     "text": [
      "Help on method_descriptor:\n",
      "\n",
      "split(self, /, sep=None, maxsplit=-1)\n",
      "    Return a list of the words in the string, using sep as the delimiter string.\n",
      "    \n",
      "    sep\n",
      "      The delimiter according which to split the string.\n",
      "      None (the default value) means split according to any whitespace,\n",
      "      and discard empty strings from the result.\n",
      "    maxsplit\n",
      "      Maximum number of splits to do.\n",
      "      -1 (the default value) means no limit.\n",
      "\n"
     ]
    }
   ],
   "source": [
    "help(str.split)"
   ]
  },
  {
   "cell_type": "markdown",
   "metadata": {},
   "source": [
    "## Regular expression\n",
    "\n",
    "- find patterns in a string\n",
    "- e.g. phone numbers, email, capital lettes, sequences..."
   ]
  },
  {
   "cell_type": "code",
   "execution_count": 36,
   "metadata": {},
   "outputs": [
    {
     "name": "stdout",
     "output_type": "stream",
     "text": [
      "['021-432512', '042-321345', '739-242521']\n",
      "Hej\\ndå\n",
      "Hej\n",
      "då\n",
      "['021-432512', '042-321345', '739-242521']\n"
     ]
    }
   ],
   "source": [
    "import re\n",
    "text = \"Mitt telefonnummer är 021-432512, Adas nummer är 042-321345, Bedas nummer är: 0739-242521\"\n",
    "\n",
    "# extract the numbers\n",
    "match1 = re.findall(r\"\\d\\d\\d-\\d\\d\\d\\d\\d\\d\", text) # r\"\" - raw string\"\n",
    "print(match1)\n",
    "\n",
    "print(r\"Hej\\ndå\")\n",
    "print(\"Hej\\ndå\")\n",
    "\n",
    "match2 = re.findall(r\"\\d{3}-\\d{6}\", text)\n",
    "print(match2)\n"
   ]
  },
  {
   "cell_type": "code",
   "execution_count": 54,
   "metadata": {},
   "outputs": [
    {
     "name": "stdout",
     "output_type": "stream",
     "text": [
      "katt,\n",
      "hatt,\n",
      "shackmatt\n",
      "skolmatt\n",
      "['katt', 'hatt', 'shackmatt', 'skolmatt']\n"
     ]
    }
   ],
   "source": [
    "text = \"Det var en gång en katt, som tog sig på en hatt, och spelade schack, fick shackmatt med hjälp av skolmatt\"\n",
    "\n",
    "textsplit = re.split(\" \", text)\n",
    "\n",
    "for i in range(len(textsplit)):\n",
    "    if re.search(\"att\", textsplit[i]) != None:\n",
    "        print(textsplit[i])\n",
    "\n",
    "match = re.findall(r\"[a-zA-Z]*tt[a-zA-Z]*\", text)\n",
    "print(match)\n",
    "# try to extract the whole words that contains \"att\"."
   ]
  },
  {
   "cell_type": "code",
   "execution_count": null,
   "metadata": {},
   "outputs": [],
   "source": []
  }
 ],
 "metadata": {
  "kernelspec": {
   "display_name": "Python 3.9.13 ('Python-Hakan-Akerblom-fWPs1u-F')",
   "language": "python",
   "name": "python3"
  },
  "language_info": {
   "codemirror_mode": {
    "name": "ipython",
    "version": 3
   },
   "file_extension": ".py",
   "mimetype": "text/x-python",
   "name": "python",
   "nbconvert_exporter": "python",
   "pygments_lexer": "ipython3",
   "version": "3.9.13"
  },
  "orig_nbformat": 4,
  "vscode": {
   "interpreter": {
    "hash": "9b8982fe4dee5ea216abe18f309efc76049b2ef374ce38cf34875b7e1b48bd42"
   }
  }
 },
 "nbformat": 4,
 "nbformat_minor": 2
}
