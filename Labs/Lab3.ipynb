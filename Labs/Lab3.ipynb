{
 "cells": [
  {
   "cell_type": "code",
   "execution_count": 55,
   "metadata": {},
   "outputs": [],
   "source": [
    "from __future__ import annotations\n",
    "import matplotlib.pyplot as plt\n",
    "\n",
    "class Rect:\n",
    "    def __init__(self, width: float, height :float, x_cen: float = 0, y_cen: float = 0):\n",
    "        self.x_cen = x_cen\n",
    "        self.y_cen = y_cen\n",
    "        self.width = width\n",
    "        self.height = height\n",
    "\n",
    "    @property\n",
    "    def area(self):\n",
    "        return self.height*self.width\n",
    "    \n",
    "    @property\n",
    "    def circ(self):\n",
    "        return self.height*2+self.width*2\n",
    "\n",
    "    def __eq__(self, other: Rect):\n",
    "        \"\"\"Checks if two rectangles have the same measuements. Position is disregarded\"\"\"\n",
    "        if self.width == other.width and self.height == other.height:\n",
    "            return True\n",
    "        else:\n",
    "            return False\n",
    "\n",
    "    def __lt__(self, other: Rect) -> bool:\n",
    "        if self.area < other.area:\n",
    "            return True\n",
    "        else:\n",
    "            return False\n",
    "\n",
    "    def __le__(self, other: Rect) -> bool:\n",
    "        if self.area <= other.area:\n",
    "            return True\n",
    "        else:\n",
    "            return False\n",
    "\n",
    "    def __gt__(self, other: Rect) -> bool:\n",
    "        if self.area > other.area:\n",
    "            return True\n",
    "        else:\n",
    "            return False\n",
    "\n",
    "    def __ge__(self, other: Rect) -> bool:\n",
    "        if self.area >= other.area:\n",
    "            return True\n",
    "        else:\n",
    "            return False\n",
    "    \n",
    "    def __repr__(self):\n",
    "        return f\"{self.width=}, {self.height=}, position: ({self.x_cen}, {self.y_cen})\"\n",
    "\n",
    "    def __str__(self):\n",
    "        return f\"{self.width=}, {self.height=}, position: ({self.x_cen}, {self.y_cen})\"\n",
    "\n",
    "    def translate(self, x: float, y: float):\n",
    "        self.x_cen += x\n",
    "        self.y_cen += y\n",
    "    \n",
    "    def isinside(self, x: float, y: float) -> bool:\n",
    "        if self.x_cen - self.width/2 <= x <= self.x_cen + self.width/2 and self.y_cen - self.height/2 <= y <= self.y_cen + self.height/2:\n",
    "            return True\n",
    "        else:\n",
    "            return False\n",
    "    \n",
    "    def plot(self):\n",
    "        xs =[\n",
    "            self.x_cen - self.width/2,\n",
    "            self.x_cen + self.width/2,\n",
    "            self.x_cen + self.width/2,\n",
    "            self.x_cen - self.width/2,\n",
    "            self.x_cen - self.width/2,\n",
    "        ]\n",
    "        ys = [\n",
    "            self.y_cen - self.height/2,\n",
    "            self.y_cen - self.height/2,\n",
    "            self.y_cen + self.height/2,\n",
    "            self.y_cen + self.height/2,\n",
    "            self.y_cen - self.height/2,\n",
    "        ]\n",
    "        plt.grid()\n",
    "        plt.plot(xs, ys, color=\"red\")\n",
    "        # SKRIV OM DETTA\n",
    "        if self.width > self.height:\n",
    "            plt.xlim([(self.x_cen - self.width/2)*1.1, (self.x_cen + self.width/2)*1.1])\n",
    "            plt.ylim([(self.x_cen - self.width/2)*1.1, (self.x_cen + self.width/2)*1.1])\n",
    "        else:\n",
    "            plt.xlim([(self.y_cen - self.height/2)*1,1, (self.y_cen + self.height/2)*1,1])\n",
    "            plt.ylim([(self.y_cen - self.height/2)*1,1, (self.y_cen + self.height/2)*1,1])\n",
    "\n",
    "\n",
    "\n",
    "    "
   ]
  },
  {
   "cell_type": "code",
   "execution_count": 59,
   "metadata": {},
   "outputs": [
    {
     "name": "stdout",
     "output_type": "stream",
     "text": [
      "self.width=600, self.height=100, position: (500, 500)\n",
      "self.width=600, self.height=100, position: (501, 502)\n"
     ]
    },
    {
     "data": {
      "image/png": "[encoded data removed]",
      "text/plain": [
       "<Figure size 640x480 with 1 Axes>"
      ]
     },
     "metadata": {},
     "output_type": "display_data"
    }
   ],
   "source": [
    "rect1 = Rect(600, 100, 500, 500)\n",
    "print(rect1)\n",
    "rect1.translate(1, 2)\n",
    "print(rect1)\n",
    "rect1.isinside(0,0)\n",
    "rect1.plot()\n",
    "rect2 = Rect(100, 10, 1, 1)\n",
    "rect2.plot()\n",
    "plt.grid()\n",
    "rect1.plot()\n"
   ]
  },
  {
   "cell_type": "code",
   "execution_count": 40,
   "metadata": {},
   "outputs": [
    {
     "data": {
      "text/plain": [
       "[<matplotlib.lines.Line2D at 0x1e54721d070>]"
      ]
     },
     "execution_count": 40,
     "metadata": {},
     "output_type": "execute_result"
    },
    {
     "data": {
      "image/png": "[encoded data removed]",
      "text/plain": [
       "<Figure size 640x480 with 1 Axes>"
      ]
     },
     "metadata": {},
     "output_type": "display_data"
    }
   ],
   "source": [
    "import matplotlib.pyplot as plt\n",
    "xs = [50, 90, 90, 50, 50]\n",
    "ys = [100, 100, 130, 130, 100]\n",
    "\n",
    "plt.plot(xs, ys, color=\"red\")"
   ]
  },
  {
   "cell_type": "code",
   "execution_count": null,
   "metadata": {},
   "outputs": [],
   "source": []
  }
 ],
 "metadata": {
  "kernelspec": {
   "display_name": "Python 3.9.13 ('Python-Hakan-Akerblom-fWPs1u-F')",
   "language": "python",
   "name": "python3"
  },
  "language_info": {
   "codemirror_mode": {
    "name": "ipython",
    "version": 3
   },
   "file_extension": ".py",
   "mimetype": "text/x-python",
   "name": "python",
   "nbconvert_exporter": "python",
   "pygments_lexer": "ipython3",
   "version": "3.9.13"
  },
  "orig_nbformat": 4,
  "vscode": {
   "interpreter": {
    "hash": "9b8982fe4dee5ea216abe18f309efc76049b2ef374ce38cf34875b7e1b48bd42"
   }
  }
 },
 "nbformat": 4,
 "nbformat_minor": 2
}
