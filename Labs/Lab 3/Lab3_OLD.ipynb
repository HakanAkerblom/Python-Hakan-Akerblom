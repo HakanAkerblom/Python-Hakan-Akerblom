{
 "cells": [
  {
   "cell_type": "markdown",
   "metadata": {},
   "source": [
    "TODO\n",
    "felhantering, klart?"
   ]
  },
  {
   "cell_type": "code",
   "execution_count": 1,
   "metadata": {},
   "outputs": [
    {
     "ename": "ImportError",
     "evalue": "cannot import name '_docstring' from partially initialized module 'matplotlib' (most likely due to a circular import) (c:\\Users\\hakan\\.virtualenvs\\Python-Hakan-Akerblom-fWPs1u-F\\lib\\site-packages\\matplotlib\\__init__.py)",
     "output_type": "error",
     "traceback": [
      "\u001b[1;31m---------------------------------------------------------------------------\u001b[0m",
      "\u001b[1;31mImportError\u001b[0m                               Traceback (most recent call last)",
      "Cell \u001b[1;32mIn [1], line 2\u001b[0m\n\u001b[0;32m      1\u001b[0m \u001b[38;5;28;01mfrom\u001b[39;00m \u001b[38;5;21;01m__future__\u001b[39;00m \u001b[38;5;28;01mimport\u001b[39;00m annotations\n\u001b[1;32m----> 2\u001b[0m \u001b[38;5;28;01mimport\u001b[39;00m \u001b[38;5;21;01mmatplotlib\u001b[39;00m\u001b[38;5;21;01m.\u001b[39;00m\u001b[38;5;21;01mpyplot\u001b[39;00m \u001b[38;5;28;01mas\u001b[39;00m \u001b[38;5;21;01mplt\u001b[39;00m\n\u001b[0;32m      3\u001b[0m \u001b[38;5;28;01mimport\u001b[39;00m \u001b[38;5;21;01mmath\u001b[39;00m\n\u001b[0;32m      5\u001b[0m \u001b[38;5;28;01mclass\u001b[39;00m \u001b[38;5;21;01mShape\u001b[39;00m:\n",
      "File \u001b[1;32mc:\\Users\\hakan\\.virtualenvs\\Python-Hakan-Akerblom-fWPs1u-F\\lib\\site-packages\\matplotlib\\__init__.py:113\u001b[0m\n\u001b[0;32m    109\u001b[0m \u001b[39mfrom\u001b[39;00m \u001b[39mpackaging\u001b[39;00m\u001b[39m.\u001b[39;00m\u001b[39mversion\u001b[39;00m \u001b[39mimport\u001b[39;00m parse \u001b[39mas\u001b[39;00m parse_version\n\u001b[0;32m    111\u001b[0m \u001b[39m# cbook must import matplotlib only within function\u001b[39;00m\n\u001b[0;32m    112\u001b[0m \u001b[39m# definitions, so it is safe to import from it here.\u001b[39;00m\n\u001b[1;32m--> 113\u001b[0m \u001b[39mfrom\u001b[39;00m \u001b[39m.\u001b[39;00m \u001b[39mimport\u001b[39;00m _api, _version, cbook, _docstring, rcsetup\n\u001b[0;32m    114\u001b[0m \u001b[39mfrom\u001b[39;00m \u001b[39mmatplotlib\u001b[39;00m\u001b[39m.\u001b[39;00m\u001b[39mcbook\u001b[39;00m \u001b[39mimport\u001b[39;00m sanitize_sequence\n\u001b[0;32m    115\u001b[0m \u001b[39mfrom\u001b[39;00m \u001b[39mmatplotlib\u001b[39;00m\u001b[39m.\u001b[39;00m\u001b[39m_api\u001b[39;00m \u001b[39mimport\u001b[39;00m MatplotlibDeprecationWarning\n",
      "\u001b[1;31mImportError\u001b[0m: cannot import name '_docstring' from partially initialized module 'matplotlib' (most likely due to a circular import) (c:\\Users\\hakan\\.virtualenvs\\Python-Hakan-Akerblom-fWPs1u-F\\lib\\site-packages\\matplotlib\\__init__.py)"
     ]
    }
   ],
   "source": [
    "from __future__ import annotations\n",
    "import matplotlib.pyplot as plt\n",
    "import math\n",
    "\n",
    "class Shape:\n",
    "    def __init__(self, x_cen: float, y_cen: float) -> None:\n",
    "        self.x_cen = x_cen\n",
    "        self.y_cen = y_cen\n",
    "\n",
    "    @property\n",
    "    def x_cen(self):\n",
    "        return self._x_cen\n",
    "\n",
    "    @property\n",
    "    def y_cen(self):\n",
    "        return self._y_cen\n",
    "\n",
    "    @x_cen.setter\n",
    "    def x_cen(self, value: float):\n",
    "        if not isinstance(value, (float, int)):\n",
    "            raise TypeError(f\"Must be a float or inte, not {type(value)}\")\n",
    "        self._x_cen = value\n",
    "\n",
    "    @y_cen.setter\n",
    "    def y_cen(self, value: float):\n",
    "        if not isinstance(value, (float, int)):\n",
    "            raise TypeError(f\"Must be a float or inte, not {type(value)}\")\n",
    "        self._y_cen = value\n",
    "\n",
    "    def __lt__(self, other: Rect) -> bool:\n",
    "        if self.area < other.area:\n",
    "            return True\n",
    "        else:\n",
    "            return False\n",
    "\n",
    "    def __le__(self, other: Rect) -> bool:\n",
    "        if self.area <= other.area:\n",
    "            return True\n",
    "        else:\n",
    "            return False\n",
    "\n",
    "    def __gt__(self, other: Rect) -> bool:\n",
    "        if self.area > other.area:\n",
    "            return True\n",
    "        else:\n",
    "            return False\n",
    "\n",
    "    def __ge__(self, other: Rect) -> bool:\n",
    "        if self.area >= other.area:\n",
    "            return True\n",
    "        else:\n",
    "            return False\n",
    "\n",
    "    def translate(self, x: float, y: float):\n",
    "        if not isinstance(x, (float, int)) or not isinstance(y, (float, int)):\n",
    "            raise TypeError(\"Must be an int or float\")\n",
    "        self.x_cen += x\n",
    "        self.y_cen += y\n",
    "\n",
    "\n",
    "class Rect(Shape):\n",
    "    def __init__(self, x_cen: float, y_cen: float, width: float, height: float) -> None:\n",
    "        super().__init__(x_cen, y_cen)\n",
    "        self.width = width\n",
    "        self.height = height\n",
    "        self.x_0 = self.x_cen - self.width/2\n",
    "        self.x_1 = self.x_cen + self.width/2\n",
    "        self.y_0 = self.y_cen - self.height/2\n",
    "        self.y_1 = self.y_cen + self.height/2\n",
    "\n",
    "    @property\n",
    "    def width(self):\n",
    "        return self._width\n",
    "\n",
    "    @width.setter\n",
    "    def width(self, value: float):\n",
    "        if not isinstance(value, (float, int)):\n",
    "            raise TypeError(\"Must be int or float\")\n",
    "        self._width = value\n",
    "\n",
    "    @property\n",
    "    def height(self):\n",
    "        return self._height\n",
    "\n",
    "    @height.setter\n",
    "    def height(self, value: float):\n",
    "        if not isinstance(value, (float, int)):\n",
    "            raise TypeError(\"Must be int or float\")\n",
    "        self._height = value\n",
    "\n",
    "    @property\n",
    "    def area(self):\n",
    "        return self.height*self.width\n",
    "    \n",
    "    @property\n",
    "    def circ(self):\n",
    "        return self.height*2+self.width*2\n",
    "\n",
    "    def __eq__(self, other: Rect):\n",
    "        \"\"\"Checks if two rectangles have the same measuements. Position is disregarded\"\"\"\n",
    "        if self.width == other.width and self.height == other.height:\n",
    "            return True\n",
    "        else:\n",
    "            return False\n",
    "    \n",
    "    def is_inside(self, x: float, y: float) -> bool:\n",
    "        if self.x_0 <= x <= self.x_1 and self.y_0 <= y <= self.y_1:\n",
    "            return True\n",
    "        else:\n",
    "            return False\n",
    "    \n",
    "    def is_square(self):\n",
    "        if self.width == self.height:\n",
    "            return True\n",
    "        else:\n",
    "            return False\n",
    "\n",
    "    def plot(self):\n",
    "        xs =[\n",
    "            self.x_0,\n",
    "            self.x_1,\n",
    "            self.x_1,\n",
    "            self.x_0,\n",
    "            self.x_0,\n",
    "        ]\n",
    "        ys = [\n",
    "            self.y_0,\n",
    "            self.y_0,\n",
    "            self.y_1,\n",
    "            self.y_1,\n",
    "            self.y_0,\n",
    "        ]\n",
    "        plt.grid()\n",
    "        plt.plot(xs, ys, color=\"red\")\n",
    "\n",
    "        \n",
    "    def __repr__(self):\n",
    "        return f\"{self.width=}, {self.height=}, position: ({self.x_cen}, {self.y_cen})\"\n",
    "\n",
    "    def __str__(self):\n",
    "        return f\"{self.width=}, {self.height=}, position: ({self.x_cen}, {self.y_cen})\"\n",
    "\n",
    " \n",
    "class Circle(Shape):\n",
    "    def __init__(self, x_cen: float, y_cen: float, radius: float) -> None:\n",
    "        super().__init__(x_cen, y_cen)\n",
    "        self.radius = radius\n",
    "\n",
    "    @property\n",
    "    def radius(self):\n",
    "        return self._radius\n",
    "\n",
    "    @radius.setter\n",
    "    def radius(self, value: float):\n",
    "        if not isinstance(value, (float, int)):\n",
    "            raise TypeError(\"Must be int or float\")\n",
    "        self._radius = value\n",
    "\n",
    "    @property\n",
    "    def area(self):\n",
    "        return math.pi*self.radius**2\n",
    "\n",
    "    @property\n",
    "    def circ(self):\n",
    "        return math.pi*self.radius*2\n",
    "\n",
    "    def __eq__(self, other: Circle):\n",
    "        if self.radius == other.radius:\n",
    "            return True\n",
    "        else:\n",
    "            return False\n",
    "\n",
    "    def is_inside(self, x: float, y: float):\n",
    "        if math.sqrt((x-self.x_cen)**2 + (y-self.y_cen)**2) <= self.radius:\n",
    "            return True\n",
    "        else:\n",
    "            return False\n",
    "\n",
    "    def is_unit_circle(self):\n",
    "        if self.radius == 1 and self.x_cen == 0 and self.y_cen == 0:\n",
    "            return True\n",
    "        else:\n",
    "            return False\n",
    "\n",
    "    "
   ]
  },
  {
   "cell_type": "code",
   "execution_count": null,
   "metadata": {},
   "outputs": [
    {
     "data": {
      "text/plain": [
       "False"
      ]
     },
     "execution_count": 20,
     "metadata": {},
     "output_type": "execute_result"
    }
   ],
   "source": [
    "c1 = Circle(0, 0, 1)\n",
    "c1.is_inside(0, -1.1)"
   ]
  },
  {
   "cell_type": "code",
   "execution_count": null,
   "metadata": {},
   "outputs": [
    {
     "name": "stdout",
     "output_type": "stream",
     "text": [
      "self.width=500, self.height=500, position: (600, 100)\n",
      "self.width=500, self.height=500, position: (601, 102)\n"
     ]
    },
    {
     "data": {
      "image/png": "[encoded data removed]",
      "text/plain": [
       "<Figure size 640x480 with 1 Axes>"
      ]
     },
     "metadata": {},
     "output_type": "display_data"
    }
   ],
   "source": [
    "rect1 = Rect(600, 100, 500, 500)\n",
    "print(rect1)\n",
    "rect1.translate(1, 2)\n",
    "print(rect1)\n",
    "rect1.is_inside(0,0)\n",
    "rect1.plot()\n",
    "rect2 = Rect(100, 10, 1, 1)\n",
    "rect2.plot()\n",
    "plt.grid()\n",
    "rect1.plot()\n",
    "\n"
   ]
  },
  {
   "cell_type": "code",
   "execution_count": null,
   "metadata": {},
   "outputs": [
    {
     "data": {
      "text/plain": [
       "[<matplotlib.lines.Line2D at 0x1e54721d070>]"
      ]
     },
     "execution_count": 40,
     "metadata": {},
     "output_type": "execute_result"
    },
    {
     "data": {
      "image/png": "[encoded data removed]",
      "text/plain": [
       "<Figure size 640x480 with 1 Axes>"
      ]
     },
     "metadata": {},
     "output_type": "display_data"
    }
   ],
   "source": [
    "import matplotlib.pyplot as plt\n",
    "xs = [50, 90, 90, 50, 50]\n",
    "ys = [100, 100, 130, 130, 100]\n",
    "\n",
    "plt.plot(xs, ys, color=\"red\")"
   ]
  },
  {
   "cell_type": "code",
   "execution_count": null,
   "metadata": {},
   "outputs": [
    {
     "data": {
      "image/png": "[encoded data removed]",
      "text/plain": [
       "<Figure size 640x480 with 1 Axes>"
      ]
     },
     "metadata": {},
     "output_type": "display_data"
    }
   ],
   "source": [
    "Rect(0, 0, 100, 10).plot()\n",
    "Rect(0, 0, 10, 5).plot()"
   ]
  },
  {
   "cell_type": "code",
   "execution_count": null,
   "metadata": {},
   "outputs": [],
   "source": []
  }
 ],
 "metadata": {
  "kernelspec": {
   "display_name": "Python 3.9.13 ('Python-Hakan-Akerblom-fWPs1u-F')",
   "language": "python",
   "name": "python3"
  },
  "language_info": {
   "codemirror_mode": {
    "name": "ipython",
    "version": 3
   },
   "file_extension": ".py",
   "mimetype": "text/x-python",
   "name": "python",
   "nbconvert_exporter": "python",
   "pygments_lexer": "ipython3",
   "version": "3.9.13"
  },
  "orig_nbformat": 4,
  "vscode": {
   "interpreter": {
    "hash": "9b8982fe4dee5ea216abe18f309efc76049b2ef374ce38cf34875b7e1b48bd42"
   }
  }
 },
 "nbformat": 4,
 "nbformat_minor": 2
}
