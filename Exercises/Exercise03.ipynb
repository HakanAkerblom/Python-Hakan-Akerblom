{
 "cells": [
  {
   "cell_type": "code",
   "execution_count": 4,
   "metadata": {},
   "outputs": [
    {
     "name": "stdout",
     "output_type": "stream",
     "text": [
      "-10 -9 -8 -7 -6 -5 -4 -3 -2 -1 0 1 2 3 4 5 6 7 8 9 10 "
     ]
    }
   ],
   "source": [
    "# 1a\n",
    "for i in range(-10, 11):\n",
    "    print(i, end = \" \")"
   ]
  },
  {
   "cell_type": "code",
   "execution_count": 5,
   "metadata": {},
   "outputs": [
    {
     "name": "stdout",
     "output_type": "stream",
     "text": [
      "-10 -8 -6 -4 -2 0 2 4 6 8 10 "
     ]
    }
   ],
   "source": [
    "# 1b\n",
    "for i in range(-10, 11, 2):\n",
    "    print(i, end = \" \")"
   ]
  },
  {
   "cell_type": "code",
   "execution_count": 6,
   "metadata": {},
   "outputs": [
    {
     "data": {
      "text/plain": [
       "5050"
      ]
     },
     "execution_count": 6,
     "metadata": {},
     "output_type": "execute_result"
    }
   ],
   "source": [
    "# 2a\n",
    "sum = 0\n",
    "for i in range(1, 101):\n",
    "    sum += i\n",
    "sum"
   ]
  },
  {
   "cell_type": "code",
   "execution_count": 7,
   "metadata": {},
   "outputs": [
    {
     "data": {
      "text/plain": [
       "2500"
      ]
     },
     "execution_count": 7,
     "metadata": {},
     "output_type": "execute_result"
    }
   ],
   "source": [
    "# 2b\n",
    "sum = 0\n",
    "for i in range(1, 100, 2):\n",
    "    sum += i\n",
    "sum"
   ]
  },
  {
   "cell_type": "code",
   "execution_count": 14,
   "metadata": {},
   "outputs": [
    {
     "name": "stdout",
     "output_type": "stream",
     "text": [
      "15 20 25 30 "
     ]
    }
   ],
   "source": [
    "# 3b\n",
    "\n",
    "table = int(input(\"Väl en gångertabell\"))\n",
    "start = int(input(\"Väl ett startvärde\"))\n",
    "end = int(input(\"Väl ett slutvärde\"))\n",
    "for i in range(start, end+1):\n",
    "    print(table*i, end = \" \")"
   ]
  },
  {
   "cell_type": "code",
   "execution_count": 18,
   "metadata": {},
   "outputs": [
    {
     "name": "stdout",
     "output_type": "stream",
     "text": [
      "0  0  0  0  0  0  0  0  0  0  0  \n",
      "0  1  2  3  4  5  6  7  8  9  10 \n",
      "0  2  4  6  8  10 12 14 16 18 20 \n",
      "0  3  6  9  12 15 18 21 24 27 30 \n",
      "0  4  8  12 16 20 24 28 32 36 40 \n",
      "0  5  10 15 20 25 30 35 40 45 50 \n",
      "0  6  12 18 24 30 36 42 48 54 60 \n",
      "0  7  14 21 28 35 42 49 56 63 70 \n",
      "0  8  16 24 32 40 48 56 64 72 80 \n",
      "0  9  18 27 36 45 54 63 72 81 90 \n",
      "0  10 20 30 40 50 60 70 80 90 100 \n"
     ]
    }
   ],
   "source": [
    "# 3c\n",
    "\n",
    "for i in range(11):\n",
    "    for j in range(11):\n",
    "        print(i*j, end = \" \")\n",
    "        if len(str(i*j)) == 1:\n",
    "            print(\" \", end = \"\")\n",
    "    print()"
   ]
  },
  {
   "cell_type": "code",
   "execution_count": 26,
   "metadata": {},
   "outputs": [
    {
     "name": "stdout",
     "output_type": "stream",
     "text": [
      "1! = 1\n"
     ]
    }
   ],
   "source": [
    "# 4\n",
    "\n",
    "n = int(input(\"Skriv ett tal\"))\n",
    "prod = 1\n",
    "\n",
    "for i in range(1, n+1):\n",
    "    prod *= i\n",
    "print(f\"{n}! = {prod}\")"
   ]
  },
  {
   "cell_type": "code",
   "execution_count": 37,
   "metadata": {},
   "outputs": [
    {
     "name": "stdout",
     "output_type": "stream",
     "text": [
      "7061\n",
      "7061\n"
     ]
    }
   ],
   "source": [
    "# 5\n",
    "import random\n",
    "\n",
    "tal1 = random.randint(1, 9999)\n",
    "print(tal1)\n",
    "\n",
    "for i in range(10000):\n",
    "    if i == tal1:\n",
    "        print(i)\n",
    "        break"
   ]
  },
  {
   "cell_type": "code",
   "execution_count": 1,
   "metadata": {},
   "outputs": [
    {
     "name": "stdout",
     "output_type": "stream",
     "text": [
      "18446744073709551615\n"
     ]
    }
   ],
   "source": [
    "# 6\n",
    "summa = 0\n",
    "riskorn = 1\n",
    "\n",
    "for ruta in range(64):\n",
    "    summa += riskorn\n",
    "    riskorn *= 2\n",
    "print(summa)\n",
    "\n"
   ]
  },
  {
   "cell_type": "code",
   "execution_count": null,
   "metadata": {},
   "outputs": [],
   "source": []
  }
 ],
 "metadata": {
  "kernelspec": {
   "display_name": "Python 3.9.13 ('Python-Hakan-Akerblom-fWPs1u-F')",
   "language": "python",
   "name": "python3"
  },
  "language_info": {
   "codemirror_mode": {
    "name": "ipython",
    "version": 3
   },
   "file_extension": ".py",
   "mimetype": "text/x-python",
   "name": "python",
   "nbconvert_exporter": "python",
   "pygments_lexer": "ipython3",
   "version": "3.9.13"
  },
  "orig_nbformat": 4,
  "vscode": {
   "interpreter": {
    "hash": "9b8982fe4dee5ea216abe18f309efc76049b2ef374ce38cf34875b7e1b48bd42"
   }
  }
 },
 "nbformat": 4,
 "nbformat_minor": 2
}
