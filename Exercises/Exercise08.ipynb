{
 "cells": [
  {
   "cell_type": "markdown",
   "metadata": {},
   "source": [
    "# File handling exercises"
   ]
  },
  {
   "cell_type": "code",
   "execution_count": null,
   "metadata": {},
   "outputs": [],
   "source": [
    "# 1. Dice rolls\n",
    "import random\n",
    "path = \"../Data/dice.rolls.txt\"\n",
    "\n",
    "with open(path, \"w\") as f_write:\n",
    "    random_rolls = [random.randint(1, 6) for i in range(20)]\n",
    "    f_write.write(f\"{random_rolls}\")\n",
    "\n",
    "with open(path, \"r\") as f_read:\n",
    "    rolls = f_read.read()\n",
    "    rolls = rolls.replace(\"]\", \"\")\n",
    "    rolls = rolls.replace(\"[\", \"\")\n",
    "    split_rolls = rolls.split(\",\")\n",
    "    for i in range(len(split_rolls)):\n",
    "        split_rolls[i] = int(split_rolls[i])\n",
    "    sorted_rolls = split_rolls\n",
    "    sorted_rolls.sort()\n",
    "    print(sorted_rolls)\n",
    "    four_count = split_rolls.count(4)\n",
    "\n",
    "with open(path, \"a\") as f_append:\n",
    "    f_append.write(f\"\\n{str(sorted_rolls)}\")\n",
    "    f_append.write(f\"\\nThe number of fours are: {four_count}\")\n"
   ]
  },
  {
   "cell_type": "code",
   "execution_count": 26,
   "metadata": {},
   "outputs": [],
   "source": [
    "# 2. Test results\n",
    "path = \"../Data/test_result.txt\"\n",
    "with open(path, \"r\") as f_r, open(\"../Data/test_result2.txt\", \"a\") as f_a:\n",
    "    lista = []\n",
    "    for i in f_r:\n",
    "        lista.append(i.strip(\"\\n\"))\n",
    "    for i in sorted(lista):\n",
    "        f_a.write(f\"{i}\\n\")\n",
    "    reversed_list = []\n",
    "    reversed_list_2 = []\n",
    "    for i in lista:\n",
    "        reversed_list.append(i.split())\n",
    "    \n",
    "    for i in reversed_list:\n",
    "        i.reverse()\n",
    "        reversed_list_2.append(i)\n",
    "    reversed_list_2.sort()\n",
    "    f_a.write(f\"\\n\")\n",
    "    for i in reversed_list_2:\n",
    "        f_a.write(f\"{i}\\n\")\n",
    "    \n",
    "    \n"
   ]
  },
  {
   "cell_type": "code",
   "execution_count": 14,
   "metadata": {},
   "outputs": [
    {
     "name": "stdout",
     "output_type": "stream",
     "text": [
      "[['A', '0.0%'], ['B', '0.0%'], ['C', '2.4%'], ['D', '5.3%'], ['E', '37.3%'], ['F', '55.0%']]\n",
      "[['A', '8.4%'], ['B', '14.2%'], ['C', '26.9%'], ['D', '16.6%'], ['E', '21.3%'], ['F', '12.6%']]\n"
     ]
    },
    {
     "data": {
      "image/png": "[encoded data removed]",
      "text/plain": [
       "<Figure size 640x480 with 2 Axes>"
      ]
     },
     "metadata": {},
     "output_type": "display_data"
    }
   ],
   "source": [
    "# 3. National test\n",
    "import numpy as np\n",
    "import matplotlib.pyplot as plt\n",
    "\n",
    "with open(\"../Data/NPvt19Ma2A.txt\", \"r\") as NP_Ma2a, open(\"../Data/NPvt19Ma2C.txt\", \"r\") as NP_Ma2c:\n",
    "    lista_Ma2a = []\n",
    "    for i in NP_Ma2a:\n",
    "        lista_Ma2a.append(i.strip(\"\\n\").split())\n",
    "    print(lista_Ma2a)\n",
    "\n",
    "    lista_Ma2c = []\n",
    "    for i in NP_Ma2c:\n",
    "        lista_Ma2c.append(i.strip(\"n\").split())\n",
    "    print(lista_Ma2c)\n",
    "\n",
    "    resultat_Ma2a = np.array([lista_Ma2a[i][1].strip(\"%\") for i in range(6)])\n",
    "    resultat_Ma2c = np.array([lista_Ma2c[i][1].strip(\"%\") for i in range(6)])\n",
    "    labels_Ma2a = [lista_Ma2a[i][0] for i in range(6)]\n",
    "    labels_Ma2c = [lista_Ma2c[i][0] for i in range(6)]\n",
    "    \n",
    "\n",
    "    plt.subplot(1, 2, 1)\n",
    "    plt.title(\"Ma2a\")\n",
    "    plt.pie(resultat_Ma2a, labels = labels_Ma2a)\n",
    "\n",
    "        \n",
    "    plt.subplot(1, 2, 2)\n",
    "    plt.title(\"Ma2c\")\n",
    "    plt.pie(resultat_Ma2c, labels = labels_Ma2c)\n",
    "\n",
    "    # for i in range(6):\n",
    "    \n",
    "\n",
    "    "
   ]
  },
  {
   "cell_type": "code",
   "execution_count": 22,
   "metadata": {},
   "outputs": [
    {
     "name": "stdout",
     "output_type": "stream",
     "text": [
      "[0.0, 0.0, 1.0, 0.0, 0.0, 0.0]\n",
      "[0.0, 0.0, 0.0, 0.0, 1.0, 0.0]\n",
      "[0.0, 0.0, 1.0, 0.0, 0.0, 0.0]\n",
      "[0.0, 0.0, 1.0, 0.0, 0.0, 0.0]\n",
      "[0.0, 0.0, 1.0, 0.0, 0.0, 0.0]\n",
      "[0.0, 0.0, 1.0, 0.0, 0.0, 0.0]\n",
      "[0.0, 1.0, 0.0, 0.0, 0.0, 0.0]\n",
      "[0.0, 0.0, 0.0, 0.0, 1.0, 0.0]\n",
      "[0.0, 1.0, 0.0, 0.0, 0.0, 0.0]\n",
      "[0.0, 0.0, 0.0, 1.0, 0.0, 0.0]\n"
     ]
    }
   ],
   "source": [
    "# 4. Dice rolls experiment\n",
    "import numpy as np\n",
    "import random\n",
    "import matplotlib.pyplot as plt\n",
    "\n",
    "with open(\"../Data/simulation.txt\", \"w\") as f:\n",
    "    for i in range(10):\n",
    "        rolls = []\n",
    "        rolls.append(random.randint(1,6))\n",
    "        f.write(str(rolls))\n",
    "        rolls_array = [rolls.count(i)/len(rolls) for i in range(1, 7)]\n",
    "        print(rolls_array)\n"
   ]
  },
  {
   "cell_type": "code",
   "execution_count": null,
   "metadata": {},
   "outputs": [],
   "source": []
  }
 ],
 "metadata": {
  "kernelspec": {
   "display_name": "Python 3.9.13 ('Python-Hakan-Akerblom-fWPs1u-F')",
   "language": "python",
   "name": "python3"
  },
  "language_info": {
   "codemirror_mode": {
    "name": "ipython",
    "version": 3
   },
   "file_extension": ".py",
   "mimetype": "text/x-python",
   "name": "python",
   "nbconvert_exporter": "python",
   "pygments_lexer": "ipython3",
   "version": "3.9.13"
  },
  "orig_nbformat": 4,
  "vscode": {
   "interpreter": {
    "hash": "9b8982fe4dee5ea216abe18f309efc76049b2ef374ce38cf34875b7e1b48bd42"
   }
  }
 },
 "nbformat": 4,
 "nbformat_minor": 2
}
