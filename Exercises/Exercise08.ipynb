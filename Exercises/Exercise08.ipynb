{
 "cells": [
  {
   "cell_type": "markdown",
   "metadata": {},
   "source": [
    "# File handling exercises"
   ]
  },
  {
   "cell_type": "code",
   "execution_count": null,
   "metadata": {},
   "outputs": [],
   "source": [
    "# 1. Dice rolls\n",
    "import random\n",
    "path = \"../Data/dice.rolls.txt\"\n",
    "\n",
    "with open(path, \"w\") as f_write:\n",
    "    random_rolls = [random.randint(1, 6) for i in range(20)]\n",
    "    f_write.write(f\"{random_rolls}\")\n",
    "\n",
    "with open(path, \"r\") as f_read:\n",
    "    rolls = f_read.read()\n",
    "    rolls = rolls.replace(\"]\", \"\")\n",
    "    rolls = rolls.replace(\"[\", \"\")\n",
    "    split_rolls = rolls.split(\",\")\n",
    "    for i in range(len(split_rolls)):\n",
    "        split_rolls[i] = int(split_rolls[i])\n",
    "    sorted_rolls = split_rolls\n",
    "    sorted_rolls.sort()\n",
    "    print(sorted_rolls)\n",
    "    four_count = split_rolls.count(4)\n",
    "\n",
    "with open(path, \"a\") as f_append:\n",
    "    f_append.write(f\"\\n{str(sorted_rolls)}\")\n",
    "    f_append.write(f\"\\nThe number of fours are: {four_count}\")\n"
   ]
  },
  {
   "cell_type": "code",
   "execution_count": 7,
   "metadata": {},
   "outputs": [
    {
     "name": "stdout",
     "output_type": "stream",
     "text": [
      "Adam Gustafsson 25\n",
      "Emil Johansson 23\n",
      "Sven Erik Karlsson 13\n",
      "Ove Karlsten 41\n",
      "Emma Boden 32\n",
      "Ida HÃ¥kansson 23\n",
      "Ella Ester 41\n",
      "Hanna Karlsson 23 \n",
      "Johan Johansson 42\n",
      "Sven Erik Lundin 39\n",
      "BjÃ¶rn BjÃ¶rnsson 39\n",
      "Karl Karlsson 32\n",
      "Bose Bosseson 32\n",
      "HÃ¥kan HÃ¥kanson 24\n",
      "Jonas Jonasson 31\n",
      "Erik Eriksson 31\n",
      "Gore Bord 55\n",
      "Jakob Kallander 65\n",
      "Fredrika Ulven 10\n"
     ]
    }
   ],
   "source": [
    "# 2. Test results\n",
    "path = \"../Data/test_result.txt\"\n",
    "with open(path, \"r\") as f_read:\n",
    "    resultat = f_read.read()\n",
    "resultat.replace(\"\\n\", \"\")\n",
    "print(resultat, end = \"\")"
   ]
  },
  {
   "cell_type": "code",
   "execution_count": null,
   "metadata": {},
   "outputs": [],
   "source": []
  }
 ],
 "metadata": {
  "kernelspec": {
   "display_name": "Python 3.9.13 ('Python-Hakan-Akerblom-fWPs1u-F')",
   "language": "python",
   "name": "python3"
  },
  "language_info": {
   "codemirror_mode": {
    "name": "ipython",
    "version": 3
   },
   "file_extension": ".py",
   "mimetype": "text/x-python",
   "name": "python",
   "nbconvert_exporter": "python",
   "pygments_lexer": "ipython3",
   "version": "3.9.13"
  },
  "orig_nbformat": 4,
  "vscode": {
   "interpreter": {
    "hash": "9b8982fe4dee5ea216abe18f309efc76049b2ef374ce38cf34875b7e1b48bd42"
   }
  }
 },
 "nbformat": 4,
 "nbformat_minor": 2
}
