{
 "cells": [
  {
   "cell_type": "code",
   "execution_count": 42,
   "metadata": {},
   "outputs": [
    {
     "name": "stdout",
     "output_type": "stream",
     "text": [
      "-10\n",
      "-9\n",
      "-8\n",
      "-7\n",
      "-6\n",
      "-5\n",
      "-4\n",
      "-3\n",
      "-2\n",
      "-1\n",
      "0\n",
      "1\n",
      "2\n",
      "3\n",
      "4\n",
      "5\n",
      "6\n",
      "7\n",
      "8\n",
      "9\n",
      "10\n"
     ]
    }
   ],
   "source": [
    "# Count numbers\n",
    "\n",
    "i = -10\n",
    "while i <= 10:\n",
    "    print(i)\n",
    "    i += 1"
   ]
  },
  {
   "cell_type": "code",
   "execution_count": 43,
   "metadata": {},
   "outputs": [
    {
     "name": "stdout",
     "output_type": "stream",
     "text": [
      "5050\n"
     ]
    }
   ],
   "source": [
    "# Arithmetic sum\n",
    "\n",
    "i, sum = 1, 0\n",
    "while i <= 100:\n",
    "    sum += i\n",
    "    i += 1\n",
    "print(sum)"
   ]
  },
  {
   "cell_type": "code",
   "execution_count": 44,
   "metadata": {},
   "outputs": [
    {
     "name": "stdout",
     "output_type": "stream",
     "text": [
      "2500\n"
     ]
    }
   ],
   "source": [
    "# Arithmetic sum 2\n",
    "\n",
    "i, sum = 1, 0\n",
    "while i <= 100:\n",
    "    sum += i\n",
    "    i += 2\n",
    "print(sum)"
   ]
  },
  {
   "cell_type": "code",
   "execution_count": 18,
   "metadata": {},
   "outputs": [
    {
     "name": "stdout",
     "output_type": "stream",
     "text": [
      "Gissa talet mellan 1 och 100\n",
      "50 var för litet...\n",
      "75 var för litet...\n",
      "87 var rätt! Det tog 3 gissningar\n"
     ]
    }
   ],
   "source": [
    "# Guess number game\n",
    "import random\n",
    "\n",
    "rand = random.randint(1, 100)\n",
    "print(\"Gissa talet mellan 1 och 100\")\n",
    "\n",
    "i = 1\n",
    "while i < 100:\n",
    "    guess = int(input(\"Skriv ett heltal\"))\n",
    "    if guess == rand:\n",
    "        print(f\"{guess} var rätt! Det tog {i} gissningar\")\n",
    "        break\n",
    "    elif guess > rand:\n",
    "        print(f\"{guess} är för stort!\")\n",
    "        i += 1\n",
    "    else:\n",
    "        print(f\"{guess} var för litet...\")\n",
    "        i += 1"
   ]
  },
  {
   "cell_type": "code",
   "execution_count": 61,
   "metadata": {},
   "outputs": [
    {
     "name": "stdout",
     "output_type": "stream",
     "text": [
      "Rätt!\n",
      "Rätt!\n",
      "Rätt!\n",
      "Fel... Svaret är 90\n"
     ]
    }
   ],
   "source": [
    "# Multiplication game\n",
    "while True:\n",
    "    x = random.randint(1, 10)\n",
    "    y = random.randint(1, 10)\n",
    "    userans = int(input(f\"What is {x} times {y}?\"))\n",
    "\n",
    "    ans = x * y\n",
    "\n",
    "\n",
    "    if ans == userans:\n",
    "        print(\"Rätt!\")\n",
    "    else:\n",
    "        print(f\"Fel... Svaret är {ans}\")\n",
    "    igen = input(\"Vill du spela igen? j/n\")\n",
    "    if igen == \"j\":\n",
    "        continue\n",
    "    else:\n",
    "        print(\"Tack för att du spelat\") \n",
    "        break"
   ]
  },
  {
   "cell_type": "code",
   "execution_count": 15,
   "metadata": {},
   "outputs": [
    {
     "name": "stdout",
     "output_type": "stream",
     "text": [
      "1.9999990463256836\n"
     ]
    }
   ],
   "source": [
    "# Check convergence\n",
    "\n",
    "n, sum = 0, 0\n",
    "min = 0.000001\n",
    "diff = 1\n",
    "while diff > min:\n",
    "    diff = 1/(2**n)\n",
    "    sum += diff\n",
    "    n += 1\n",
    "print(sum)"
   ]
  },
  {
   "cell_type": "code",
   "execution_count": 16,
   "metadata": {},
   "outputs": [
    {
     "name": "stdout",
     "output_type": "stream",
     "text": [
      "0.7851481634599485\n"
     ]
    }
   ],
   "source": [
    "# Check convergence 2\n",
    "\n",
    "n, sum = 0, 0\n",
    "\n",
    "max = 1000\n",
    "while n < max:\n",
    "    sum += ((-1)**n)/(2*n+1)\n",
    "    n += 1\n",
    "print(sum)"
   ]
  },
  {
   "cell_type": "code",
   "execution_count": null,
   "metadata": {},
   "outputs": [],
   "source": []
  }
 ],
 "metadata": {
  "kernelspec": {
   "display_name": "Python 3.9.13 ('Python-Hakan-Akerblom-fWPs1u-F')",
   "language": "python",
   "name": "python3"
  },
  "language_info": {
   "codemirror_mode": {
    "name": "ipython",
    "version": 3
   },
   "file_extension": ".py",
   "mimetype": "text/x-python",
   "name": "python",
   "nbconvert_exporter": "python",
   "pygments_lexer": "ipython3",
   "version": "3.9.13"
  },
  "orig_nbformat": 4,
  "vscode": {
   "interpreter": {
    "hash": "9b8982fe4dee5ea216abe18f309efc76049b2ef374ce38cf34875b7e1b48bd42"
   }
  }
 },
 "nbformat": 4,
 "nbformat_minor": 2
}
