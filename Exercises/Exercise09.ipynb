{
 "cells": [
  {
   "cell_type": "markdown",
   "metadata": {},
   "source": [
    "# Dictionary exercises"
   ]
  },
  {
   "cell_type": "code",
   "execution_count": 5,
   "metadata": {},
   "outputs": [
    {
     "name": "stdout",
     "output_type": "stream",
     "text": [
      "{'Databaser': 25, 'datadehandling': 25, 'Djup Maskininlärning': 40, 'Examensarbete': 15, 'Introduktionskurs till AI': 5, 'LIA 1': 40, 'LIA 3': 70, 'Maskininlärning': 45, 'Praktisk maskininlärning': 35, 'Programmering med Python': 40, 'Projektmetodik': 10, 'Statistiska metoder': 30, 'Linjär algebra': 20}\n",
      "400\n"
     ]
    }
   ],
   "source": [
    "# 1. Curriculum\n",
    "\n",
    "curriculum = {\n",
    "    \"Databaser\": 25,\n",
    "    \"datadehandling\": 25,\n",
    "    \"Djup Maskininlärning\": 40,\n",
    "    \"Examensarbete\": 15,\n",
    "    \"Introduktionskurs till AI\": 5,\n",
    "    \"LIA 1\": 40,\n",
    "    \"LIA 3\": 70,\n",
    "    \"Maskininlärning\": 45,\n",
    "    \"Praktisk maskininlärning\": 35,\n",
    "    \"Programmering med Python\": 40,\n",
    "    \"Projektmetodik\": 10,\n",
    "    \"Statistiska metoder\": 30,\n",
    "    \"Linjär algebra\": 20,\n",
    "}\n",
    "print(curriculum)\n",
    "summa = 0\n",
    "for key in curriculum:\n",
    "    summa += curriculum[key]\n",
    "print(summa)\n"
   ]
  },
  {
   "cell_type": "code",
   "execution_count": 21,
   "metadata": {},
   "outputs": [
    {
     "name": "stdout",
     "output_type": "stream",
     "text": [
      "{'ettor': 142082, 'tvåor': 142920, 'treor': 142737, 'fyror': 142952, 'femmor': 143468, 'sexor': 142889}\n"
     ]
    }
   ],
   "source": [
    "# 2. Dice simulation\n",
    "import random\n",
    "\n",
    "rolls = [random.randint(1, 7) for i in range(1, 1000000)]\n",
    "\n",
    "\n",
    "sorted_rolls = {\n",
    "    \"ettor\": rolls.count(1),\n",
    "    \"tvåor\": rolls.count(2),\n",
    "    \"treor\": rolls.count(3),\n",
    "    \"fyror\": rolls.count(4),\n",
    "    \"femmor\": rolls.count(5),\n",
    "    \"sexor\": rolls.count(6),\n",
    "}\n",
    "print(sorted_rolls)\n"
   ]
  },
  {
   "cell_type": "code",
   "execution_count": 83,
   "metadata": {},
   "outputs": [
    {
     "name": "stdout",
     "output_type": "stream",
     "text": [
      "('SpÃ¶ke/Gift', 94)\n",
      "('Elektrisk', 25)\n"
     ]
    }
   ],
   "source": [
    "# 3. Pokemon list\n",
    "\n",
    "pokelist = []\n",
    "with open(\"../Data/pokemon_list.txt\", \"r\") as f:\n",
    "    for pokemon in f:\n",
    "        pokelist.append(pokemon.split())\n",
    "    pokedex = {}\n",
    "    for i in range(150):\n",
    "        pokedex[pokelist[i][1]] = pokelist[i][2], int(pokelist[i][0])\n",
    "    print(pokedex[\"Gengar\"])\n",
    "    print(pokedex[\"Pikachu\"])"
   ]
  },
  {
   "cell_type": "code",
   "execution_count": 81,
   "metadata": {},
   "outputs": [
    {
     "name": "stdout",
     "output_type": "stream",
     "text": [
      "{'A': '.-', 'B': '-...', 'C': '-.-.', 'D': '-..', 'E': '.', 'F': '..-.', 'G': '--', 'H': '....', 'I': '..', 'J': '.---', 'K': '-.-', 'L': '.-..', 'M': '--', 'N': '-.', 'O': '---', 'P': '.--', 'Q': '--.-', 'R': '.-.', 'S': '...', 'T': '-', 'U': '..-', 'V': '...-', 'W': '.--', 'X': '-..-', 'Y': '-.--', 'Z': '--..', 'Ã': '---'}\n",
      "...---...\n",
      ".------.-.------."
     ]
    }
   ],
   "source": [
    "# 4. Morse code\n",
    "\n",
    "with open(\"../Data/morse.txt\", \"r\") as f:\n",
    "    morse_list = []\n",
    "    morse_dict = {}\n",
    "    j = 0\n",
    "    for i in f:\n",
    "        morse_list.append(i.split())\n",
    "        morse_list[j][0] = morse_list[j][0][0]\n",
    "        j += 1\n",
    "    # print(morse_list)\n",
    "    for i in range(29):\n",
    "        morse_dict[morse_list[i][0]] = morse_list[i][1]\n",
    "    print(morse_dict)\n",
    "\n",
    "\n",
    "def morse(word):\n",
    "    for letter in word:\n",
    "        print(morse_dict[letter], end=\"\")\n",
    "\n",
    "\n",
    "morse(\"SOS\")\n",
    "print()\n",
    "morse(\"POKEMON\")\n"
   ]
  },
  {
   "cell_type": "code",
   "execution_count": 88,
   "metadata": {},
   "outputs": [
    {
     "name": "stdout",
     "output_type": "stream",
     "text": [
      "{'A': '.-', 'B': '-...', 'C': '-.-.', 'D': '-..', 'E': '.', 'F': '..-.', 'G': '--', 'H': '....', 'I': '..', 'J': '.---', 'K': '-.-', 'L': '.-..', 'M': '--', 'N': '-.', 'O': '---', 'P': '.--', 'Q': '--.-', 'R': '.-.', 'S': '...', 'T': '-', 'U': '..-', 'V': '...-', 'W': '.--', 'X': '-..-', 'Y': '-.--', 'Z': '--..', 'Ã…': '.--.-', 'Ã„': '.-.-', 'Ã–': '---'}\n"
     ]
    }
   ],
   "source": [
    "# 4. Alternativ lösning\n",
    "\n",
    "with open(\"../Data/morse.txt\") as f:\n",
    "    morse_dict = dict(i.strip(\"\\n\").split(\": \") for i in f)\n",
    "    print(morse_dict)"
   ]
  },
  {
   "cell_type": "code",
   "execution_count": null,
   "metadata": {},
   "outputs": [],
   "source": []
  }
 ],
 "metadata": {
  "kernelspec": {
   "display_name": "Python 3.9.13 ('Python-Hakan-Akerblom-fWPs1u-F')",
   "language": "python",
   "name": "python3"
  },
  "language_info": {
   "codemirror_mode": {
    "name": "ipython",
    "version": 3
   },
   "file_extension": ".py",
   "mimetype": "text/x-python",
   "name": "python",
   "nbconvert_exporter": "python",
   "pygments_lexer": "ipython3",
   "version": "3.9.13"
  },
  "orig_nbformat": 4,
  "vscode": {
   "interpreter": {
    "hash": "9b8982fe4dee5ea216abe18f309efc76049b2ef374ce38cf34875b7e1b48bd42"
   }
  }
 },
 "nbformat": 4,
 "nbformat_minor": 2
}
