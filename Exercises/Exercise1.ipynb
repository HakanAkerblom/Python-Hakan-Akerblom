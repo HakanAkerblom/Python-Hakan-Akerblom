{
 "cells": [
  {
   "cell_type": "code",
   "execution_count": 3,
   "metadata": {},
   "outputs": [
    {
     "name": "stdout",
     "output_type": "stream",
     "text": [
      "Talet är negativt\n"
     ]
    }
   ],
   "source": [
    "tal1 = float(input(\"Skriv ett tal:\"))\n",
    "if tal1 > 0:\n",
    "    print(\"Talet är positivt\")\n",
    "elif tal1 == 0:\n",
    "    print(\"Talet är noll\")\n",
    "else:\n",
    "    print(\"Talet är negativt\")"
   ]
  },
  {
   "cell_type": "code",
   "execution_count": 4,
   "metadata": {},
   "outputs": [
    {
     "name": "stdout",
     "output_type": "stream",
     "text": [
      "3.0\n"
     ]
    }
   ],
   "source": [
    "tal1 = float(input(\"Skriv ett tal\"))\n",
    "tal2 = float(input(\"Skriv ett tal till\"))\n",
    "if tal1 > tal2:\n",
    "    print(tal2)\n",
    "elif tal1 < tal2:\n",
    "    print(tal1)\n",
    "else:\n",
    "    print(\"Talen är lika stora\")"
   ]
  },
  {
   "cell_type": "code",
   "execution_count": 9,
   "metadata": {},
   "outputs": [
    {
     "name": "stdout",
     "output_type": "stream",
     "text": [
      "Vinkelsumman är inte 180\n"
     ]
    }
   ],
   "source": [
    "vinkel1 = float(input(\"Skriv tre vinklar: \"))\n",
    "vinkel2 = float(input(\"Skriv tre vinklar: \"))\n",
    "vinkel3 = float(input(\"Skriv tre vinklar: \"))\n",
    "\n",
    "vinkelsumma = vinkel1 + vinkel2 + vinkel3\n",
    "if vinkelsumma == 180:\n",
    "    if vinkel1 == 90:\n",
    "        print(\"Triangeln är rätvinklig\")\n",
    "    elif vinkel2 == 90:\n",
    "        print(\"Triangeln är rätvinklig\")\n",
    "    elif vinkel3 == 90:\n",
    "        print(\"Triangeln är rätvinklig\")\n",
    "    else:\n",
    "        print(\"Triangeln är inte rätvinklig\")\n",
    "\n",
    "else: \n",
    "    print(\"Vinkelsumman är inte 180\")\n",
    "\n",
    "# Programmet tar inte hänsyn till att sidorna måste vara positiva och nollskiljda"
   ]
  },
  {
   "cell_type": "code",
   "execution_count": null,
   "metadata": {},
   "outputs": [],
   "source": [
    "# Medicine\n",
    "\n",
    "age = float(input(\"Skriv din ålder\"))\n",
    "weight = float(input(\"Skriv din vikt\"))\n",
    "\n",
    "if age < 3:\n",
    "    print(\"Du är för ung\")\n",
    "else:\n",
    "    if weight < 25:\n",
    "        print(\"Ta 0.5 tablett\")\n",
    "    elif 25 <= weight < 40:\n",
    "        print(\"Ta 0.5 - 1 tablett\")\n",
    "    else "
   ]
  }
 ],
 "metadata": {
  "kernelspec": {
   "display_name": "Python 3.9.13 ('Python-Hakan-Akerblom-fWPs1u-F')",
   "language": "python",
   "name": "python3"
  },
  "language_info": {
   "codemirror_mode": {
    "name": "ipython",
    "version": 3
   },
   "file_extension": ".py",
   "mimetype": "text/x-python",
   "name": "python",
   "nbconvert_exporter": "python",
   "pygments_lexer": "ipython3",
   "version": "3.9.13"
  },
  "orig_nbformat": 4,
  "vscode": {
   "interpreter": {
    "hash": "9b8982fe4dee5ea216abe18f309efc76049b2ef374ce38cf34875b7e1b48bd42"
   }
  }
 },
 "nbformat": 4,
 "nbformat_minor": 2
}
