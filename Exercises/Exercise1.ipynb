{
 "cells": [
  {
   "cell_type": "code",
   "execution_count": 3,
   "metadata": {},
   "outputs": [
    {
     "name": "stdout",
     "output_type": "stream",
     "text": [
      "Talet är negativt\n"
     ]
    }
   ],
   "source": [
    "tal1 = float(input(\"Skriv ett tal:\"))\n",
    "if tal1 > 0:\n",
    "    print(\"Talet är positivt\")\n",
    "elif tal1 == 0:\n",
    "    print(\"Talet är noll\")\n",
    "else:\n",
    "    print(\"Talet är negativt\")"
   ]
  },
  {
   "cell_type": "code",
   "execution_count": 4,
   "metadata": {},
   "outputs": [
    {
     "name": "stdout",
     "output_type": "stream",
     "text": [
      "3.0\n"
     ]
    }
   ],
   "source": [
    "tal1 = float(input(\"Skriv ett tal\"))\n",
    "tal2 = float(input(\"Skriv ett tal till\"))\n",
    "if tal1 > tal2:\n",
    "    print(tal2)\n",
    "elif tal1 < tal2:\n",
    "    print(tal1)\n",
    "else:\n",
    "    print(\"Talen är lika stora\")"
   ]
  },
  {
   "cell_type": "code",
   "execution_count": 9,
   "metadata": {},
   "outputs": [
    {
     "name": "stdout",
     "output_type": "stream",
     "text": [
      "Vinkelsumman är inte 180\n"
     ]
    }
   ],
   "source": [
    "vinkel1 = float(input(\"Skriv tre vinklar: \"))\n",
    "vinkel2 = float(input(\"Skriv tre vinklar: \"))\n",
    "vinkel3 = float(input(\"Skriv tre vinklar: \"))\n",
    "\n",
    "vinkelsumma = vinkel1 + vinkel2 + vinkel3\n",
    "if vinkelsumma == 180:\n",
    "    if vinkel1 == 90:\n",
    "        print(\"Triangeln är rätvinklig\")\n",
    "    elif vinkel2 == 90:\n",
    "        print(\"Triangeln är rätvinklig\")\n",
    "    elif vinkel3 == 90:\n",
    "        print(\"Triangeln är rätvinklig\")\n",
    "    else:\n",
    "        print(\"Triangeln är inte rätvinklig\")\n",
    "\n",
    "else: \n",
    "    print(\"Vinkelsumman är inte 180\")\n",
    "\n",
    "# Programmet tar inte hänsyn till att sidorna måste vara positiva och nollskiljda"
   ]
  },
  {
   "cell_type": "code",
   "execution_count": 11,
   "metadata": {},
   "outputs": [
    {
     "name": "stdout",
     "output_type": "stream",
     "text": [
      "Ta 0.5 tablett\n"
     ]
    }
   ],
   "source": [
    "# Medicine\n",
    "\n",
    "age = float(input(\"Skriv din ålder\"))\n",
    "weight = float(input(\"Skriv din vikt\"))\n",
    "\n",
    "if age < 3:\n",
    "    print(\"Du är för ung\")\n",
    "else:\n",
    "    if weight < 25:\n",
    "        print(\"Ta 0.5 tablett\")\n",
    "    elif 25 <= weight < 40:\n",
    "        print(\"Ta 0.5 - 1 tablett\")\n",
    "    else:\n",
    "        print(\"Ta 1 - 2 tabletter\")"
   ]
  },
  {
   "cell_type": "code",
   "execution_count": 13,
   "metadata": {},
   "outputs": [
    {
     "name": "stdout",
     "output_type": "stream",
     "text": [
      "Talet är udda\n",
      "Talet är delbart med 5\n",
      "Talet är delbart med 5 och udda\n"
     ]
    }
   ],
   "source": [
    "# Divisible\n",
    "\n",
    "tal1 = float(input(\"Skriv ett tal:\"))\n",
    "if tal1 % 2 == 0:\n",
    "    print(\"Talet är jämnt\")\n",
    "else:\n",
    "    print(\"Talet är udda\")\n",
    "if tal1 % 5 == 0:\n",
    "    print(\"Talet är delbart med 5\")\n",
    "if tal1 % 5 == 0 and tal1 % 2 == 1:\n",
    "    print(\"Talet är delbart med 5 och udda\")\n"
   ]
  },
  {
   "cell_type": "code",
   "execution_count": 16,
   "metadata": {},
   "outputs": [
    {
     "name": "stdout",
     "output_type": "stream",
     "text": [
      "Bag fits!\n"
     ]
    }
   ],
   "source": [
    "# Luggage\n",
    "\n",
    "weight = float(input(\"The bags´ weight\"))\n",
    "length = float(input(\"The bags´ length \"))\n",
    "width = float(input(\"The bags´ width \"))\n",
    "height = float(input(\"The bags´ height \"))\n",
    "\n",
    "if weight > 8:\n",
    "    print(\"Bag too heavy\")\n",
    "else:\n",
    "    if length > 55:\n",
    "        print(\"Bag too long\")\n",
    "    else:\n",
    "        if width > 40:\n",
    "            print(\"Bag too wide\")\n",
    "        else:\n",
    "            if height > 23:\n",
    "                print(\"Bag too high\")\n",
    "            else:\n",
    "                print(\"Bag fits!\")\n"
   ]
  },
  {
   "cell_type": "code",
   "execution_count": null,
   "metadata": {},
   "outputs": [],
   "source": []
  }
 ],
 "metadata": {
  "kernelspec": {
   "display_name": "Python 3.9.13 ('Python-Hakan-Akerblom-fWPs1u-F')",
   "language": "python",
   "name": "python3"
  },
  "language_info": {
   "codemirror_mode": {
    "name": "ipython",
    "version": 3
   },
   "file_extension": ".py",
   "mimetype": "text/x-python",
   "name": "python",
   "nbconvert_exporter": "python",
   "pygments_lexer": "ipython3",
   "version": "3.9.13"
  },
  "orig_nbformat": 4,
  "vscode": {
   "interpreter": {
    "hash": "9b8982fe4dee5ea216abe18f309efc76049b2ef374ce38cf34875b7e1b48bd42"
   }
  }
 },
 "nbformat": 4,
 "nbformat_minor": 2
}
