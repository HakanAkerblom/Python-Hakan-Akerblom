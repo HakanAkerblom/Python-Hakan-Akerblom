{
 "cells": [
  {
   "cell_type": "markdown",
   "metadata": {},
   "source": [
    "# Strings exercises"
   ]
  },
  {
   "cell_type": "code",
   "execution_count": 8,
   "metadata": {},
   "outputs": [
    {
     "name": "stdout",
     "output_type": "stream",
     "text": [
      " SDFSsdfsd  har 10 tecken\n",
      "Det finns 4 stora bokstäver och 5 små.\n"
     ]
    }
   ],
   "source": [
    "# 1. Counting letters\n",
    "import re\n",
    "\n",
    "user_input = input(\"Skriv ett ord\")\n",
    "print(f\" {user_input} har {len(user_input)} tecken\")\n",
    "\n",
    "versaler = re.findall(r\"[A-Z]\", user_input)\n",
    "gemener = re.findall(r\"[a-z]\", user_input)\n",
    "print(f\"Det finns {len(versaler)} stora bokstäver och {len(gemener)} små.\")"
   ]
  },
  {
   "cell_type": "code",
   "execution_count": 13,
   "metadata": {},
   "outputs": [
    {
     "name": "stdout",
     "output_type": "stream",
     "text": [
      " Mening har 17 ord.\n"
     ]
    }
   ],
   "source": [
    "# 2. Counting words\n",
    "\n",
    "mening = \"A picture says more than a thousand words, a matematical formula says more than a thousand pictures.\"\n",
    "\n",
    "splittad_mening = re.split(\"\\s+\", mening)\n",
    "print(f\" Meningen har {len(splittad_mening)} ord.\")"
   ]
  },
  {
   "cell_type": "code",
   "execution_count": 19,
   "metadata": {},
   "outputs": [
    {
     "name": "stdout",
     "output_type": "stream",
     "text": [
      "a toyotas a toyota är ett palindrom\n"
     ]
    }
   ],
   "source": [
    "# 3. Palindrome\n",
    "\n",
    "user_input = input(\"Skriv en mening\")\n",
    "user_input_nospace = user_input.replace(\" \", \"\")\n",
    "if user_input_nospace == user_input_nospace[::-1]:\n",
    "    print(f\"{user_input} är ett palindrom\")\n",
    "else:\n",
    "    print(f\"{user_input} är inte ett palindrom\")\n"
   ]
  },
  {
   "cell_type": "code",
   "execution_count": 27,
   "metadata": {},
   "outputs": [
    {
     "name": "stdout",
     "output_type": "stream",
     "text": [
      "Det finns 22 vokaler i meningen\n"
     ]
    }
   ],
   "source": [
    "# 4. Vowels\n",
    "import re\n",
    "\n",
    "mening =  \"Pure mathematics is, in its way, the poetry of logical ideas\"\n",
    "letters = []\n",
    "vokaler = \"aouåeiyäö\"\n",
    "for letter in mening:\n",
    "    for vokal in vokaler:\n",
    "        if letter == vokal:\n",
    "            letters.append(letter)\n",
    "print(f\"Det finns {len(letters)} vokaler i meningen\")"
   ]
  },
  {
   "cell_type": "code",
   "execution_count": null,
   "metadata": {},
   "outputs": [],
   "source": []
  }
 ],
 "metadata": {
  "kernelspec": {
   "display_name": "Python 3.9.13 ('Python-Hakan-Akerblom-fWPs1u-F')",
   "language": "python",
   "name": "python3"
  },
  "language_info": {
   "codemirror_mode": {
    "name": "ipython",
    "version": 3
   },
   "file_extension": ".py",
   "mimetype": "text/x-python",
   "name": "python",
   "nbconvert_exporter": "python",
   "pygments_lexer": "ipython3",
   "version": "3.9.13"
  },
  "orig_nbformat": 4,
  "vscode": {
   "interpreter": {
    "hash": "9b8982fe4dee5ea216abe18f309efc76049b2ef374ce38cf34875b7e1b48bd42"
   }
  }
 },
 "nbformat": 4,
 "nbformat_minor": 2
}
