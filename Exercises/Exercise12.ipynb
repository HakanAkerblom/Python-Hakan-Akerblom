{
 "cells": [
  {
   "cell_type": "markdown",
   "metadata": {},
   "source": [
    "# OOP Inheritance - Polymorphism"
   ]
  },
  {
   "cell_type": "code",
   "execution_count": null,
   "metadata": {},
   "outputs": [],
   "source": [
    "class Video:\n",
    "\n",
    "    def __init__(self, title: str, genre:str, rating: float) -> None:\n",
    "        self.title = title\n",
    "        self.genre = genre\n",
    "        self.rating = rating\n",
    "\n",
    "    def info(self) -> str:\n",
    "        pass\n",
    "\n",
    "class TV_serie(Video):\n",
    "\n",
    "    def __init__(self, title: str, genre: str, rating: float) -> None:\n",
    "        super().__init__(title, genre, rating)\n",
    "\n",
    "\n",
    "\n"
   ]
  },
  {
   "cell_type": "code",
   "execution_count": 25,
   "metadata": {},
   "outputs": [],
   "source": [
    "# 2 Fraction\n",
    "\n",
    "class Frac:\n",
    "\n",
    "    def __init__(self, nominator, denominator) -> None:\n",
    "        self.nominator = nominator\n",
    "        self.denominator = denominator\n",
    "\n",
    "    def simplify(self, value = None):\n",
    "        simplified_nominator = self.nominator\n",
    "        simplified_denominator = self.denominator\n",
    "        if value != None:\n",
    "            if simplified_nominator % value != 0 or simplified_denominator % value != 0:\n",
    "                raise ValueError(f\"Both numbers can't be divided by {value}\")\n",
    "            else:\n",
    "                simplified_nominator = int(simplified_nominator / value)\n",
    "                simplified_denominator = int(simplified_denominator / value)\n",
    "\n",
    "        else:\n",
    "            p = 2\n",
    "            while p <= simplified_nominator and p <= simplified_denominator:\n",
    "                if simplified_nominator % p == 0 and simplified_denominator % p == 0:\n",
    "                    simplified_nominator = int(simplified_nominator/p)\n",
    "                    simplified_denominator = int(simplified_denominator/p)\n",
    "                else:\n",
    "                    p += 1\n",
    "\n",
    "\n",
    "        return f\"{simplified_nominator}/{simplified_denominator}\"\n"
   ]
  },
  {
   "cell_type": "code",
   "execution_count": 28,
   "metadata": {},
   "outputs": [
    {
     "data": {
      "text/plain": [
       "'2/8'"
      ]
     },
     "execution_count": 28,
     "metadata": {},
     "output_type": "execute_result"
    }
   ],
   "source": [
    "test = Frac(90, 360)\n",
    "test.simplify(45)"
   ]
  },
  {
   "cell_type": "code",
   "execution_count": null,
   "metadata": {},
   "outputs": [],
   "source": []
  }
 ],
 "metadata": {
  "kernelspec": {
   "display_name": "Python 3.9.13 ('Python-Hakan-Akerblom-fWPs1u-F')",
   "language": "python",
   "name": "python3"
  },
  "language_info": {
   "codemirror_mode": {
    "name": "ipython",
    "version": 3
   },
   "file_extension": ".py",
   "mimetype": "text/x-python",
   "name": "python",
   "nbconvert_exporter": "python",
   "pygments_lexer": "ipython3",
   "version": "3.9.13"
  },
  "orig_nbformat": 4,
  "vscode": {
   "interpreter": {
    "hash": "9b8982fe4dee5ea216abe18f309efc76049b2ef374ce38cf34875b7e1b48bd42"
   }
  }
 },
 "nbformat": 4,
 "nbformat_minor": 2
}
