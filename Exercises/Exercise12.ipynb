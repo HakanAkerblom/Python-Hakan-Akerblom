{
 "cells": [
  {
   "cell_type": "markdown",
   "metadata": {},
   "source": [
    "# OOP Inheritance - Polymorphism"
   ]
  },
  {
   "cell_type": "code",
   "execution_count": 133,
   "metadata": {},
   "outputs": [],
   "source": [
    "class Video:\n",
    "\n",
    "    def __init__(self, title: str, genre: str, rating: float) -> None:\n",
    "        self.title = title\n",
    "        self.genre = genre\n",
    "        self.rating = rating\n",
    "\n",
    "    def info(self) -> str:\n",
    "        pass\n",
    "\n",
    "class TV_serie(Video):\n",
    "\n",
    "    def __init__(self, title: str, genre: str, rating: float) -> None:\n",
    "        super().__init__(title, genre, rating)\n",
    "\n",
    "\n",
    "\n"
   ]
  },
  {
   "cell_type": "code",
   "execution_count": 134,
   "metadata": {},
   "outputs": [],
   "source": [
    "# 2 Fraction\n",
    "from __future__ import annotations\n",
    "from multiprocessing.pool import AsyncResult\n",
    "\n",
    "class Frac:\n",
    "    \"\"\"A class to represent fractions\"\"\"\n",
    "\n",
    "    def __init__(self, nominator, denominator) -> None:\n",
    "        self.nominator = nominator\n",
    "        self.denominator = denominator\n",
    "\n",
    "    @property\n",
    "    def nominator(self):\n",
    "        return self._nominator\n",
    "    \n",
    "    @nominator.setter\n",
    "    def nominator(self, value):\n",
    "        self._nominator = value\n",
    "\n",
    "\n",
    "    def simplify(self, value = None):\n",
    "        simplified_nominator = self.nominator\n",
    "        simplified_denominator = self.denominator\n",
    "        if value != None:\n",
    "            if simplified_nominator % value != 0 or simplified_denominator % value != 0:\n",
    "                raise ValueError(f\"Both numbers can't be divided by {value}\")\n",
    "            else:\n",
    "                simplified_nominator = int(simplified_nominator / value)\n",
    "                simplified_denominator = int(simplified_denominator / value)\n",
    "\n",
    "        else:\n",
    "            p = 2\n",
    "            while p <= simplified_nominator and p <= simplified_denominator:\n",
    "                if simplified_nominator % p == 0 and simplified_denominator % p == 0:\n",
    "                    simplified_nominator = int(simplified_nominator/p)\n",
    "                    simplified_denominator = int(simplified_denominator/p)\n",
    "                else:\n",
    "                    p += 1\n",
    "\n",
    "        return Frac(simplified_nominator, simplified_denominator)\n",
    "\n",
    "    \n",
    "    def __add__(self, other: Frac | int) -> Frac:\n",
    "        if type(other) == int:\n",
    "            other_nominator = other\n",
    "            other_denominator = 1\n",
    "        else:\n",
    "            other_nominator = other.nominator\n",
    "            other_denominator = other.denominator\n",
    "        common_denominator = self.denominator * other_denominator\n",
    "        sum = int((self.nominator*(common_denominator/self.denominator)) + (other_nominator*(common_denominator/other_denominator)))\n",
    "        ans = Frac(sum, common_denominator)\n",
    "        \n",
    "        return ans.simplify()\n",
    "\n",
    "\n",
    "    def __sub__(self, other: Frac | int) -> Frac:\n",
    "        if type(other) == int:\n",
    "            other_nominator = other\n",
    "            other_denominator = 1\n",
    "        else:\n",
    "            other_nominator = other.nominator\n",
    "            other_denominator = other.denominator\n",
    "        common_denominator = self.denominator * other_denominator\n",
    "        diff = int((self.nominator*(common_denominator/self.denominator)) - (other_nominator*(common_denominator/other_denominator)))\n",
    "        ans = Frac(diff, common_denominator)\n",
    "\n",
    "        return ans.simplify()\n",
    "    \n",
    "    def __mul__(self, other: Frac | int) -> Frac:\n",
    "        mult_nominator = self.nominator * other.nominator\n",
    "        mult_denominator = self.denominator * other.denominator\n",
    "        ans = Frac(mult_nominator, mult_denominator)\n",
    "\n",
    "        return ans.simplify()\n",
    "\n",
    "    def __repr__(self):\n",
    "        return f\"{self.nominator}/{self.denominator}\"\n",
    "        \n",
    "\n"
   ]
  },
  {
   "cell_type": "code",
   "execution_count": 135,
   "metadata": {},
   "outputs": [
    {
     "data": {
      "text/plain": [
       "1/4"
      ]
     },
     "execution_count": 135,
     "metadata": {},
     "output_type": "execute_result"
    }
   ],
   "source": [
    "test = Frac(90, 360)\n",
    "test.simplify()\n"
   ]
  },
  {
   "cell_type": "code",
   "execution_count": 136,
   "metadata": {},
   "outputs": [
    {
     "data": {
      "text/plain": [
       "9/4"
      ]
     },
     "execution_count": 136,
     "metadata": {},
     "output_type": "execute_result"
    }
   ],
   "source": [
    "Frac(1, 4)+2"
   ]
  },
  {
   "cell_type": "code",
   "execution_count": 137,
   "metadata": {},
   "outputs": [
    {
     "data": {
      "text/plain": [
       "1/6"
      ]
     },
     "execution_count": 137,
     "metadata": {},
     "output_type": "execute_result"
    }
   ],
   "source": [
    "Frac(1, 2) - Frac(1, 3)"
   ]
  },
  {
   "cell_type": "code",
   "execution_count": 138,
   "metadata": {},
   "outputs": [
    {
     "data": {
      "text/plain": [
       "1/4"
      ]
     },
     "execution_count": 138,
     "metadata": {},
     "output_type": "execute_result"
    }
   ],
   "source": [
    "Frac(1, 2) * Frac(1, 2)"
   ]
  },
  {
   "cell_type": "code",
   "execution_count": null,
   "metadata": {},
   "outputs": [],
   "source": []
  }
 ],
 "metadata": {
  "kernelspec": {
   "display_name": "Python 3.9.13 ('Python-Hakan-Akerblom-fWPs1u-F')",
   "language": "python",
   "name": "python3"
  },
  "language_info": {
   "codemirror_mode": {
    "name": "ipython",
    "version": 3
   },
   "file_extension": ".py",
   "mimetype": "text/x-python",
   "name": "python",
   "nbconvert_exporter": "python",
   "pygments_lexer": "ipython3",
   "version": "3.9.13"
  },
  "orig_nbformat": 4,
  "vscode": {
   "interpreter": {
    "hash": "9b8982fe4dee5ea216abe18f309efc76049b2ef374ce38cf34875b7e1b48bd42"
   }
  }
 },
 "nbformat": 4,
 "nbformat_minor": 2
}
