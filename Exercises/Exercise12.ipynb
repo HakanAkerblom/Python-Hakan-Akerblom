{
 "cells": [
  {
   "cell_type": "markdown",
   "metadata": {},
   "source": [
    "# OOP Inheritance - Polymorphism"
   ]
  },
  {
   "cell_type": "code",
   "execution_count": 1,
   "metadata": {},
   "outputs": [],
   "source": [
    "class Video:\n",
    "\n",
    "    def __init__(self, title: str, genre: str, rating: float) -> None:\n",
    "        self.title = title\n",
    "        self.genre = genre\n",
    "        self.rating = rating\n",
    "\n",
    "    def info(self) -> str:\n",
    "        pass\n",
    "\n",
    "class TV_serie(Video):\n",
    "\n",
    "    def __init__(self, title: str, genre: str, rating: float) -> None:\n",
    "        super().__init__(title, genre, rating)\n",
    "\n",
    "\n",
    "\n"
   ]
  },
  {
   "cell_type": "code",
   "execution_count": 34,
   "metadata": {},
   "outputs": [],
   "source": [
    "# 2 Fraction\n",
    "from __future__ import annotations\n",
    "\n",
    "class Frac:\n",
    "    \"\"\"A class to represent fractions\"\"\"\n",
    "\n",
    "    def __init__(self, nominator: int, denominator: int) -> None:\n",
    "        if not isinstance(nominator, int):\n",
    "            raise TypeError(f\"Nominator must be an int, not {type(nominator)}\")\n",
    "        if not isinstance(denominator, int):\n",
    "            raise TypeError(f\"Denominator must be an int, not {type(denominator)}\")\n",
    "        self.nominator = nominator\n",
    "        self.denominator = denominator\n",
    "\n",
    "    @property\n",
    "    def nominator(self) -> int:\n",
    "        return self._nominator\n",
    "    \n",
    "    @nominator.setter\n",
    "    def nominator(self, value):\n",
    "        if not isinstance(value, int):\n",
    "            raise TypeError(f\"Value must be an int not {type(value)}\")\n",
    "        self._nominator = value\n",
    "\n",
    "    @property\n",
    "    def denominator(self) -> int: \n",
    "        return self._denominator\n",
    "    \n",
    "    @denominator.setter\n",
    "    def denominator(self, value):\n",
    "        if not isinstance(value, int):\n",
    "            raise TypeError(f\"Value must be an int not {type(value)}\")\n",
    "        self._denominator = value\n",
    "\n",
    "    def simplify(self, value = None):\n",
    "        simplified_nominator = self.nominator\n",
    "        simplified_denominator = self.denominator\n",
    "        if value != None:\n",
    "            if simplified_nominator % value != 0 or simplified_denominator % value != 0:\n",
    "                raise ValueError(f\"Both numbers can't be divided by {value}\")\n",
    "            else:\n",
    "                simplified_nominator = int(simplified_nominator / value)\n",
    "                simplified_denominator = int(simplified_denominator / value)\n",
    "\n",
    "        else:\n",
    "            p = 2\n",
    "            while p <= simplified_nominator and p <= simplified_denominator:\n",
    "                if simplified_nominator % p == 0 and simplified_denominator % p == 0:\n",
    "                    simplified_nominator = int(simplified_nominator/p)\n",
    "                    simplified_denominator = int(simplified_denominator/p)\n",
    "                else:\n",
    "                    p += 1\n",
    "\n",
    "        return Frac(simplified_nominator, simplified_denominator)\n",
    "\n",
    "    \n",
    "    def __add__(self, other: Frac | int) -> Frac:\n",
    "        if type(other) == int:\n",
    "            other_nominator = other\n",
    "            other_denominator = 1\n",
    "        else:\n",
    "            other_nominator = other.nominator\n",
    "            other_denominator = other.denominator\n",
    "        common_denominator = self.denominator * other_denominator\n",
    "        sum = int((self.nominator*(common_denominator/self.denominator)) + (other_nominator*(common_denominator/other_denominator)))\n",
    "        ans = Frac(sum, common_denominator)\n",
    "        \n",
    "        return ans.simplify()\n",
    "\n",
    "\n",
    "    def __sub__(self, other: Frac | int) -> Frac:\n",
    "        if type(other) == int:\n",
    "            other_nominator = other\n",
    "            other_denominator = 1\n",
    "        else:\n",
    "            other_nominator = other.nominator\n",
    "            other_denominator = other.denominator\n",
    "        common_denominator = self.denominator * other_denominator\n",
    "        diff = int((self.nominator*(common_denominator/self.denominator)) - (other_nominator*(common_denominator/other_denominator)))\n",
    "        ans = Frac(diff, common_denominator)\n",
    "\n",
    "        return ans.simplify()\n",
    "    \n",
    "    def __mul__(self, other: Frac | int) -> Frac:\n",
    "        mult_nominator = self.nominator * other.nominator\n",
    "        mult_denominator = self.denominator * other.denominator\n",
    "        ans = Frac(mult_nominator, mult_denominator)\n",
    "\n",
    "        return ans.simplify()\n",
    "\n",
    "    def __truediv__(self, other: Frac | int) -> Frac:\n",
    "        if not isinstance(other, (Frac, int)):\n",
    "            raise TypeError(f\"Other must be Frac or int, not {type(other)}\")\n",
    "        if type(other) == int:\n",
    "            ans = Frac(self.nominator, self.denominator*other)\n",
    "            return ans.simplify()\n",
    "        if type(other) == Frac:\n",
    "            other = Frac(other.denominator, other.nominator)\n",
    "            return self*other\n",
    "\n",
    "    def mixed(self):\n",
    "        if self.nominator < self.denominator:\n",
    "            return self\n",
    "        elif self.nominator == self.denominator:\n",
    "            return self.nominator\n",
    "        else:\n",
    "            whole = self.nominator // self.denominator\n",
    "            rest = self.nominator % self.denominator\n",
    "            return f\"{whole} {Frac(rest, self.denominator)}\"\n",
    "\n",
    "    def __eq__(self, other: Frac) -> bool:\n",
    "        self_simp = self.simplify()\n",
    "        other_simp = other.simplify()\n",
    "        if self_simp.nominator == other_simp.nominator and self_simp.denominator == other_simp.denominator:\n",
    "            return True\n",
    "        else:\n",
    "            return False\n",
    "\n",
    "    def __repr__(self):\n",
    "        return f\"{self.nominator}/{self.denominator}\"\n",
    "    \n",
    "    def __str__(self):\n",
    "        return f\"{self.nominator}/{self.denominator}\"\n",
    "        \n",
    "\n"
   ]
  },
  {
   "cell_type": "code",
   "execution_count": 40,
   "metadata": {},
   "outputs": [
    {
     "data": {
      "text/plain": [
       "True"
      ]
     },
     "execution_count": 40,
     "metadata": {},
     "output_type": "execute_result"
    }
   ],
   "source": [
    "Frac(1, 2) == Frac(2, 4)"
   ]
  },
  {
   "cell_type": "code",
   "execution_count": 33,
   "metadata": {},
   "outputs": [
    {
     "data": {
      "text/plain": [
       "11/4"
      ]
     },
     "execution_count": 33,
     "metadata": {},
     "output_type": "execute_result"
    }
   ],
   "source": [
    "Frac(1, 2).mixed()\n",
    "Frac(3, 3).mixed()\n",
    "Frac(17, 5).mixed()\n",
    "Frac(3, 4) + 2"
   ]
  },
  {
   "cell_type": "code",
   "execution_count": 19,
   "metadata": {},
   "outputs": [
    {
     "data": {
      "text/plain": [
       "1/2"
      ]
     },
     "execution_count": 19,
     "metadata": {},
     "output_type": "execute_result"
    }
   ],
   "source": [
    "Frac(1,4)/Frac(1,2)"
   ]
  },
  {
   "cell_type": "code",
   "execution_count": 3,
   "metadata": {},
   "outputs": [
    {
     "data": {
      "text/plain": [
       "1/4"
      ]
     },
     "execution_count": 3,
     "metadata": {},
     "output_type": "execute_result"
    }
   ],
   "source": [
    "test = Frac(90, 360)\n",
    "test.simplify()\n"
   ]
  },
  {
   "cell_type": "code",
   "execution_count": 4,
   "metadata": {},
   "outputs": [
    {
     "data": {
      "text/plain": [
       "9/4"
      ]
     },
     "execution_count": 4,
     "metadata": {},
     "output_type": "execute_result"
    }
   ],
   "source": [
    "Frac(1, 4)+2"
   ]
  },
  {
   "cell_type": "code",
   "execution_count": 5,
   "metadata": {},
   "outputs": [
    {
     "data": {
      "text/plain": [
       "1/6"
      ]
     },
     "execution_count": 5,
     "metadata": {},
     "output_type": "execute_result"
    }
   ],
   "source": [
    "Frac(1, 2) - Frac(1, 3)"
   ]
  },
  {
   "cell_type": "code",
   "execution_count": 6,
   "metadata": {},
   "outputs": [
    {
     "data": {
      "text/plain": [
       "1/4"
      ]
     },
     "execution_count": 6,
     "metadata": {},
     "output_type": "execute_result"
    }
   ],
   "source": [
    "Frac(1, 2) * Frac(1, 2)"
   ]
  },
  {
   "cell_type": "code",
   "execution_count": 9,
   "metadata": {},
   "outputs": [
    {
     "ename": "TypeError",
     "evalue": "Nominator must be an int, not <class 'str'>",
     "output_type": "error",
     "traceback": [
      "\u001b[1;31m---------------------------------------------------------------------------\u001b[0m",
      "\u001b[1;31mTypeError\u001b[0m                                 Traceback (most recent call last)",
      "\u001b[1;32mc:\\Users\\hakan\\Documents\\Programmering\\Github\\Python-Hakan-Akerblom\\Exercises\\Exercise12.ipynb Cell 8\u001b[0m in \u001b[0;36m<cell line: 1>\u001b[1;34m()\u001b[0m\n\u001b[1;32m----> <a href='vscode-notebook-cell:/c%3A/Users/hakan/Documents/Programmering/Github/Python-Hakan-Akerblom/Exercises/Exercise12.ipynb#X10sZmlsZQ%3D%3D?line=0'>1</a>\u001b[0m Frac(\u001b[39m\"\u001b[39;49m\u001b[39mhej\u001b[39;49m\u001b[39m\"\u001b[39;49m, \u001b[39m4\u001b[39;49m)\n",
      "\u001b[1;32mc:\\Users\\hakan\\Documents\\Programmering\\Github\\Python-Hakan-Akerblom\\Exercises\\Exercise12.ipynb Cell 8\u001b[0m in \u001b[0;36mFrac.__init__\u001b[1;34m(self, nominator, denominator)\u001b[0m\n\u001b[0;32m      <a href='vscode-notebook-cell:/c%3A/Users/hakan/Documents/Programmering/Github/Python-Hakan-Akerblom/Exercises/Exercise12.ipynb#X10sZmlsZQ%3D%3D?line=6'>7</a>\u001b[0m \u001b[39mdef\u001b[39;00m \u001b[39m__init__\u001b[39m(\u001b[39mself\u001b[39m, nominator: \u001b[39mint\u001b[39m, denominator: \u001b[39mint\u001b[39m) \u001b[39m-\u001b[39m\u001b[39m>\u001b[39m \u001b[39mNone\u001b[39;00m:\n\u001b[0;32m      <a href='vscode-notebook-cell:/c%3A/Users/hakan/Documents/Programmering/Github/Python-Hakan-Akerblom/Exercises/Exercise12.ipynb#X10sZmlsZQ%3D%3D?line=7'>8</a>\u001b[0m     \u001b[39mif\u001b[39;00m \u001b[39mnot\u001b[39;00m \u001b[39misinstance\u001b[39m(nominator, \u001b[39mint\u001b[39m):\n\u001b[1;32m----> <a href='vscode-notebook-cell:/c%3A/Users/hakan/Documents/Programmering/Github/Python-Hakan-Akerblom/Exercises/Exercise12.ipynb#X10sZmlsZQ%3D%3D?line=8'>9</a>\u001b[0m         \u001b[39mraise\u001b[39;00m \u001b[39mTypeError\u001b[39;00m(\u001b[39mf\u001b[39m\u001b[39m\"\u001b[39m\u001b[39mNominator must be an int, not \u001b[39m\u001b[39m{\u001b[39;00m\u001b[39mtype\u001b[39m(nominator)\u001b[39m}\u001b[39;00m\u001b[39m\"\u001b[39m)\n\u001b[0;32m     <a href='vscode-notebook-cell:/c%3A/Users/hakan/Documents/Programmering/Github/Python-Hakan-Akerblom/Exercises/Exercise12.ipynb#X10sZmlsZQ%3D%3D?line=9'>10</a>\u001b[0m     \u001b[39mif\u001b[39;00m \u001b[39mnot\u001b[39;00m \u001b[39misinstance\u001b[39m(denominator, \u001b[39mint\u001b[39m):\n\u001b[0;32m     <a href='vscode-notebook-cell:/c%3A/Users/hakan/Documents/Programmering/Github/Python-Hakan-Akerblom/Exercises/Exercise12.ipynb#X10sZmlsZQ%3D%3D?line=10'>11</a>\u001b[0m         \u001b[39mraise\u001b[39;00m \u001b[39mTypeError\u001b[39;00m(\u001b[39mf\u001b[39m\u001b[39m\"\u001b[39m\u001b[39mDenominator must be an int, not \u001b[39m\u001b[39m{\u001b[39;00m\u001b[39mtype\u001b[39m(denominator)\u001b[39m}\u001b[39;00m\u001b[39m\"\u001b[39m)\n",
      "\u001b[1;31mTypeError\u001b[0m: Nominator must be an int, not <class 'str'>"
     ]
    }
   ],
   "source": [
    "Frac(\"hej\", 4)"
   ]
  },
  {
   "cell_type": "code",
   "execution_count": null,
   "metadata": {},
   "outputs": [],
   "source": []
  }
 ],
 "metadata": {
  "kernelspec": {
   "display_name": "Python 3.9.7 ('Python-Hakan-Akerblom-YzR5GEpF')",
   "language": "python",
   "name": "python3"
  },
  "language_info": {
   "codemirror_mode": {
    "name": "ipython",
    "version": 3
   },
   "file_extension": ".py",
   "mimetype": "text/x-python",
   "name": "python",
   "nbconvert_exporter": "python",
   "pygments_lexer": "ipython3",
   "version": "3.9.7"
  },
  "orig_nbformat": 4,
  "vscode": {
   "interpreter": {
    "hash": "50c489c8ac99e50e31e555338e9585cdc55ef013013d6a283364937a133ea910"
   }
  }
 },
 "nbformat": 4,
 "nbformat_minor": 2
}
