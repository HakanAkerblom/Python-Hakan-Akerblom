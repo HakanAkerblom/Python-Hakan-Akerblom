{
 "cells": [
  {
   "cell_type": "code",
   "execution_count": 9,
   "metadata": {},
   "outputs": [
    {
     "data": {
      "text/plain": [
       "{'value': 2.26796}"
      ]
     },
     "execution_count": 9,
     "metadata": {},
     "output_type": "execute_result"
    }
   ],
   "source": [
    "# 1. Unit conversion\n",
    "\n",
    "class Converter:\n",
    "    def __init__(self, value):\n",
    "        self.value = value\n",
    "    \n",
    "    def inch_to_cm(self):\n",
    "        self.value *= 2.54\n",
    "        return self.value\n",
    "\n",
    "    def foot_to_meters(self):\n",
    "        self.value *= 0.3048\n",
    "        return self.value\n",
    "\n",
    "    def pound_to_kg(self):\n",
    "        self.value *= 0.453592\n",
    "        return self.value\n",
    "\n",
    "    def __repr__(self):\n",
    "        return f\"{self.value=}\"\n",
    "\n",
    "length = Converter(5)\n",
    "length.pound_to_kg()\n",
    "\n",
    "# orkade inte göra error handling osv\n",
    "length.__dict__\n"
   ]
  },
  {
   "cell_type": "code",
   "execution_count": null,
   "metadata": {},
   "outputs": [],
   "source": [
    "class Person:\n",
    "    def __init__(self, name, age, email):\n",
    "        self.name = name\n",
    "        self.age = age\n",
    "        self.email = email"
   ]
  }
 ],
 "metadata": {
  "kernelspec": {
   "display_name": "Python 3.9.13 ('Python-Hakan-Akerblom-fWPs1u-F')",
   "language": "python",
   "name": "python3"
  },
  "language_info": {
   "codemirror_mode": {
    "name": "ipython",
    "version": 3
   },
   "file_extension": ".py",
   "mimetype": "text/x-python",
   "name": "python",
   "nbconvert_exporter": "python",
   "pygments_lexer": "ipython3",
   "version": "3.9.13"
  },
  "orig_nbformat": 4,
  "vscode": {
   "interpreter": {
    "hash": "9b8982fe4dee5ea216abe18f309efc76049b2ef374ce38cf34875b7e1b48bd42"
   }
  }
 },
 "nbformat": 4,
 "nbformat_minor": 2
}
