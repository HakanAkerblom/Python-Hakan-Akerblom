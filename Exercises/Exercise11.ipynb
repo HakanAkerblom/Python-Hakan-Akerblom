{
 "cells": [
  {
   "cell_type": "code",
   "execution_count": 9,
   "metadata": {},
   "outputs": [
    {
     "data": {
      "text/plain": [
       "{'value': 2.26796}"
      ]
     },
     "execution_count": 9,
     "metadata": {},
     "output_type": "execute_result"
    }
   ],
   "source": [
    "# 1. Unit conversion\n",
    "\n",
    "class Converter:\n",
    "    def __init__(self, value):\n",
    "        self.value = value\n",
    "    \n",
    "    def inch_to_cm(self):\n",
    "        self.value *= 2.54\n",
    "        return self.value\n",
    "\n",
    "    def foot_to_meters(self):\n",
    "        self.value *= 0.3048\n",
    "        return self.value\n",
    "\n",
    "    def pound_to_kg(self):\n",
    "        self.value *= 0.453592\n",
    "        return self.value\n",
    "\n",
    "    def __repr__(self):\n",
    "        return f\"{self.value=}\"\n",
    "\n",
    "length = Converter(5)\n",
    "length.pound_to_kg()\n",
    "\n",
    "# orkade inte göra error handling osv\n",
    "length.__dict__\n"
   ]
  },
  {
   "cell_type": "code",
   "execution_count": 46,
   "metadata": {},
   "outputs": [
    {
     "name": "stdout",
     "output_type": "stream",
     "text": [
      "Hi, my name is Håkan, I am 38 years old, my email adress is hakan.akerblom@gmail.com\n"
     ]
    },
    {
     "data": {
      "text/plain": [
       "\"self._name='Håkan', self._age=38, hakan.akerblom@gmail.com\""
      ]
     },
     "execution_count": 46,
     "metadata": {},
     "output_type": "execute_result"
    }
   ],
   "source": [
    "class Person:\n",
    "    def __init__(self, name, age, email):\n",
    "        self.name = name\n",
    "        self.age = age\n",
    "        self.email = email\n",
    "    \n",
    "    @property\n",
    "    def name(self) -> str:\n",
    "        return self._name\n",
    "\n",
    "    @name.setter\n",
    "    def name(self, value: str):\n",
    "        # validation\n",
    "        if not isinstance(value, str):\n",
    "            raise TypeError(f\"Name must be a string, not {type(value)}\")\n",
    "        self._name = value\n",
    "\n",
    "    @property\n",
    "    def age(self) -> int:\n",
    "        return self._age\n",
    "    \n",
    "    @age.setter\n",
    "    def age(self, value: int):\n",
    "        # validation\n",
    "        if not isinstance(value, int):\n",
    "            raise TypeError(f\"Age must be an int, not {type(value)}\")\n",
    "        if not 0 <= value <= 125:\n",
    "            raise ValueError(f\"Age must be between 0 and 125\")\n",
    "        self._age = value\n",
    "    \n",
    "    @property\n",
    "    def email(self) -> str:\n",
    "        return self._email\n",
    "    \n",
    "    @email.setter\n",
    "    def email(self, value: str):\n",
    "        # validation\n",
    "        if not isinstance(value, str):\n",
    "            raise TypeError(f\"Email must be a string, not {type(value)}\")\n",
    "        if not \"@\" in value:\n",
    "            raise ValueError(f\"Email must contain @\")\n",
    "        self._email = value\n",
    "    \n",
    "    def __repr__(self) -> str:\n",
    "        return f\"{self._name=}, {self._age=}, {self._email}\"\n",
    "\n",
    "    def say_hello(self):\n",
    "        print(f\"Hi, my name is {self._name}, I am {self._age} years old, my email adress is {self._email}\")\n",
    "\n",
    "        \n",
    "person1 = Person(\"Håkan\", 38, \"hakan.akerblom@gmail.com\")\n",
    "person1.say_hello()\n",
    "person1.__repr__()\n"
   ]
  },
  {
   "cell_type": "code",
   "execution_count": null,
   "metadata": {},
   "outputs": [],
   "source": []
  }
 ],
 "metadata": {
  "kernelspec": {
   "display_name": "Python 3.9.13 ('Python-Hakan-Akerblom-fWPs1u-F')",
   "language": "python",
   "name": "python3"
  },
  "language_info": {
   "codemirror_mode": {
    "name": "ipython",
    "version": 3
   },
   "file_extension": ".py",
   "mimetype": "text/x-python",
   "name": "python",
   "nbconvert_exporter": "python",
   "pygments_lexer": "ipython3",
   "version": "3.9.13"
  },
  "orig_nbformat": 4,
  "vscode": {
   "interpreter": {
    "hash": "9b8982fe4dee5ea216abe18f309efc76049b2ef374ce38cf34875b7e1b48bd42"
   }
  }
 },
 "nbformat": 4,
 "nbformat_minor": 2
}
